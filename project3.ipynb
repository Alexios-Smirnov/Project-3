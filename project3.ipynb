{
 "cells": [
  {
   "cell_type": "markdown",
   "metadata": {},
   "source": [
    "# <center> **ПРОЕКТ**\n",
    "\n",
    "### <center> Исследовать поведение пользователей в обновлённом приложении.\n",
    "\n",
    "студент: Смирнов Алексей \n",
    "\n",
    "група: DAPR_197\n",
    "\n",
    "## <center> Цель проекта проверить гипотезы:\n",
    "\n",
    "1. Определить, насколько обучение сокращает время прохождения этапов игры.\n",
    "\n",
    "2. Доказать, что успешное обучение само по себе влияет на оплату и не имеет значения то, каким этапом оно шло.\n",
    "\n",
    "3. Определить, насколько прозрачен процесс взаимодействия с игрой."
   ]
  },
  {
   "cell_type": "markdown",
   "metadata": {},
   "source": [
    "\n",
    "\n",
    "Важно! Выполнять задание необходимо на основе данных пользователей, которые зарегистрировались в 2018 году (с 1 января по 31 декабря 2018 года включительно)."
   ]
  },
  {
   "cell_type": "markdown",
   "metadata": {},
   "source": [
    "## <center> Подготовка данных"
   ]
  },
  {
   "cell_type": "code",
   "execution_count": null,
   "metadata": {
    "ExecuteTime": {
     "end_time": "2023-10-25T19:58:22.546523Z",
     "start_time": "2023-10-25T19:58:22.135989Z"
    }
   },
   "outputs": [],
   "source": [
    "import pandas as pd \n",
    "import numpy as np\n",
    "import plotly\n",
    "import plotly.express as px\n",
    "\n",
    "events_df = pd.read_csv('Events.csv', sep=',')\n",
    "purchase_df = pd.read_csv('Purchase.csv', sep=',')\n",
    "\n",
    "events_copy = events_df.copy()\n",
    "purchase_copy = purchase_df.copy()\n",
    "\n",
    "# согласно заданию расчеты проводятся с пользователями зарегистрированными в 2018г.\n",
    "# Создаем mask для фильтрайии и определяем список с пользователями\n",
    "mask_1 = events_df['start_time'] < '2019-01-01'\n",
    "mask_2 = events_df['start_time'] >= '2018-01-01'\n",
    "mask_3 = events_df['event_type'] == 'registration'\n",
    "user_list_2018 = events_df[mask_1 & mask_2 & mask_3]['user_id'].to_list()\n",
    "\n",
    "# Создание DataFrame: events_df и purchase_df c пользователями зарегистрировавшимися в 2018г.\n",
    "events_df = events_df[events_df.user_id.isin(user_list_2018)]\n",
    "purchase_df = purchase_df[purchase_df.user_id.isin(user_list_2018)]\n",
    "\n",
    "# Добавляем и переименовываем столбцы\n",
    "purchase_df['event_type'] = 'purchase'\n",
    "events_df = events_df.rename(columns ={'id':'event_id'})\n",
    "purchase_df = purchase_df.rename(columns={\"id\": \"purchase_id\", \"event_datetime\": \"start_time\"})\n",
    "\n",
    "# Дата в формате datetime\n",
    "events_df['start_time']=pd.to_datetime(events_df['start_time'], errors='coerce')\n",
    "purchase_df['start_time']=pd.to_datetime(purchase_df['start_time'])\n",
    "\n",
    "# список пользователей прошедших обучение\n",
    "tutorial_finish_list = list(events_df[events_df['event_type'] == 'tutorial_finish']['user_id'].unique())\n",
    "# список пользователей начавших но незакончивших обучение\n",
    "tutorial_start_list = list(events_df[(events_df['event_type'] == 'tutorial_start') & (\n",
    "    ~events_df['user_id'].isin(tutorial_finish_list))]['user_id'].unique())"
   ]
  },
  {
   "cell_type": "code",
   "execution_count": null,
   "metadata": {},
   "outputs": [
    {
     "data": {
      "text/html": [
       "<div>\n",
       "<style scoped>\n",
       "    .dataframe tbody tr th:only-of-type {\n",
       "        vertical-align: middle;\n",
       "    }\n",
       "\n",
       "    .dataframe tbody tr th {\n",
       "        vertical-align: top;\n",
       "    }\n",
       "\n",
       "    .dataframe thead th {\n",
       "        text-align: right;\n",
       "    }\n",
       "</style>\n",
       "<table border=\"1\" class=\"dataframe\">\n",
       "  <thead>\n",
       "    <tr style=\"text-align: right;\">\n",
       "      <th>event_type</th>\n",
       "      <th>user_id</th>\n",
       "      <th>level_choice</th>\n",
       "      <th>pack_choice</th>\n",
       "      <th>purchase</th>\n",
       "      <th>registration</th>\n",
       "      <th>tutorial_finish</th>\n",
       "      <th>tutorial_start</th>\n",
       "    </tr>\n",
       "  </thead>\n",
       "  <tbody>\n",
       "    <tr>\n",
       "      <th>0</th>\n",
       "      <td>27832</td>\n",
       "      <td>NaT</td>\n",
       "      <td>NaT</td>\n",
       "      <td>NaT</td>\n",
       "      <td>2018-01-01 03:48:40</td>\n",
       "      <td>NaT</td>\n",
       "      <td>NaT</td>\n",
       "    </tr>\n",
       "    <tr>\n",
       "      <th>1</th>\n",
       "      <td>27833</td>\n",
       "      <td>NaT</td>\n",
       "      <td>NaT</td>\n",
       "      <td>NaT</td>\n",
       "      <td>2018-01-01 04:07:25</td>\n",
       "      <td>2018-01-01 17:50:08</td>\n",
       "      <td>2018-01-01 17:47:40</td>\n",
       "    </tr>\n",
       "    <tr>\n",
       "      <th>2</th>\n",
       "      <td>27834</td>\n",
       "      <td>NaT</td>\n",
       "      <td>NaT</td>\n",
       "      <td>NaT</td>\n",
       "      <td>2018-01-01 08:35:10</td>\n",
       "      <td>2018-01-01 19:48:01</td>\n",
       "      <td>2018-01-01 19:46:11</td>\n",
       "    </tr>\n",
       "    <tr>\n",
       "      <th>3</th>\n",
       "      <td>27835</td>\n",
       "      <td>2018-01-01 20:37:22</td>\n",
       "      <td>2018-01-01 20:38:43</td>\n",
       "      <td>NaT</td>\n",
       "      <td>2018-01-01 11:54:47</td>\n",
       "      <td>2018-01-01 15:06:15</td>\n",
       "      <td>2018-01-01 15:00:51</td>\n",
       "    </tr>\n",
       "    <tr>\n",
       "      <th>4</th>\n",
       "      <td>27836</td>\n",
       "      <td>NaT</td>\n",
       "      <td>NaT</td>\n",
       "      <td>NaT</td>\n",
       "      <td>2018-01-01 13:28:07</td>\n",
       "      <td>2018-01-01 15:42:58</td>\n",
       "      <td>2018-01-01 14:54:40</td>\n",
       "    </tr>\n",
       "  </tbody>\n",
       "</table>\n",
       "</div>"
      ],
      "text/plain": [
       "event_type  user_id        level_choice         pack_choice purchase  \\\n",
       "0             27832                 NaT                 NaT      NaT   \n",
       "1             27833                 NaT                 NaT      NaT   \n",
       "2             27834                 NaT                 NaT      NaT   \n",
       "3             27835 2018-01-01 20:37:22 2018-01-01 20:38:43      NaT   \n",
       "4             27836                 NaT                 NaT      NaT   \n",
       "\n",
       "event_type        registration     tutorial_finish      tutorial_start  \n",
       "0          2018-01-01 03:48:40                 NaT                 NaT  \n",
       "1          2018-01-01 04:07:25 2018-01-01 17:50:08 2018-01-01 17:47:40  \n",
       "2          2018-01-01 08:35:10 2018-01-01 19:48:01 2018-01-01 19:46:11  \n",
       "3          2018-01-01 11:54:47 2018-01-01 15:06:15 2018-01-01 15:00:51  \n",
       "4          2018-01-01 13:28:07 2018-01-01 15:42:58 2018-01-01 14:54:40  "
      ]
     },
     "execution_count": 2,
     "metadata": {},
     "output_type": "execute_result"
    }
   ],
   "source": [
    "#total_events_df - объединенная таблица (из events и purchase)\n",
    "total_events_df = pd.concat([events_df, purchase_df], sort=False)\n",
    "\n",
    "#удаляем старые индексы и сортируем по дате\n",
    "total_events_df = total_events_df.reset_index(drop=True).sort_values('start_time')\n",
    "\n",
    "\n",
    "# Создадим сводную таблицу\n",
    "pivot_df = total_events_df.pivot_table(\n",
    "    values='start_time', index='user_id', columns='event_type', aggfunc='min')\n",
    "\n",
    "# Cбросим индексы\n",
    "pivot_df = pivot_df.reset_index()\n",
    "\n",
    "pivot_df.head(5)"
   ]
  },
  {
   "cell_type": "markdown",
   "metadata": {},
   "source": [
    "## <center> Гипотеза 1"
   ]
  },
  {
   "cell_type": "markdown",
   "metadata": {},
   "source": [
    "<center> Определить, насколько обучение сокращает время прохождения этапов игры."
   ]
  },
  {
   "cell_type": "code",
   "execution_count": null,
   "metadata": {},
   "outputs": [
    {
     "data": {
      "text/html": [
       "<div>\n",
       "<style scoped>\n",
       "    .dataframe tbody tr th:only-of-type {\n",
       "        vertical-align: middle;\n",
       "    }\n",
       "\n",
       "    .dataframe tbody tr th {\n",
       "        vertical-align: top;\n",
       "    }\n",
       "\n",
       "    .dataframe thead th {\n",
       "        text-align: right;\n",
       "    }\n",
       "</style>\n",
       "<table border=\"1\" class=\"dataframe\">\n",
       "  <thead>\n",
       "    <tr style=\"text-align: right;\">\n",
       "      <th>event_type</th>\n",
       "      <th>user_id</th>\n",
       "      <th>level_choice</th>\n",
       "      <th>pack_choice</th>\n",
       "      <th>purchase</th>\n",
       "      <th>registration</th>\n",
       "      <th>tutorial_finish</th>\n",
       "      <th>tutorial_start</th>\n",
       "      <th>user_group</th>\n",
       "    </tr>\n",
       "  </thead>\n",
       "  <tbody>\n",
       "    <tr>\n",
       "      <th>0</th>\n",
       "      <td>27832</td>\n",
       "      <td>NaT</td>\n",
       "      <td>NaT</td>\n",
       "      <td>NaT</td>\n",
       "      <td>2018-01-01 03:48:40</td>\n",
       "      <td>NaT</td>\n",
       "      <td>NaT</td>\n",
       "      <td>not_start</td>\n",
       "    </tr>\n",
       "    <tr>\n",
       "      <th>1</th>\n",
       "      <td>27833</td>\n",
       "      <td>NaT</td>\n",
       "      <td>NaT</td>\n",
       "      <td>NaT</td>\n",
       "      <td>2018-01-01 04:07:25</td>\n",
       "      <td>2018-01-01 17:50:08</td>\n",
       "      <td>2018-01-01 17:47:40</td>\n",
       "      <td>finished</td>\n",
       "    </tr>\n",
       "    <tr>\n",
       "      <th>2</th>\n",
       "      <td>27834</td>\n",
       "      <td>NaT</td>\n",
       "      <td>NaT</td>\n",
       "      <td>NaT</td>\n",
       "      <td>2018-01-01 08:35:10</td>\n",
       "      <td>2018-01-01 19:48:01</td>\n",
       "      <td>2018-01-01 19:46:11</td>\n",
       "      <td>finished</td>\n",
       "    </tr>\n",
       "    <tr>\n",
       "      <th>3</th>\n",
       "      <td>27835</td>\n",
       "      <td>2018-01-01 20:37:22</td>\n",
       "      <td>2018-01-01 20:38:43</td>\n",
       "      <td>NaT</td>\n",
       "      <td>2018-01-01 11:54:47</td>\n",
       "      <td>2018-01-01 15:06:15</td>\n",
       "      <td>2018-01-01 15:00:51</td>\n",
       "      <td>finished</td>\n",
       "    </tr>\n",
       "    <tr>\n",
       "      <th>4</th>\n",
       "      <td>27836</td>\n",
       "      <td>NaT</td>\n",
       "      <td>NaT</td>\n",
       "      <td>NaT</td>\n",
       "      <td>2018-01-01 13:28:07</td>\n",
       "      <td>2018-01-01 15:42:58</td>\n",
       "      <td>2018-01-01 14:54:40</td>\n",
       "      <td>finished</td>\n",
       "    </tr>\n",
       "  </tbody>\n",
       "</table>\n",
       "</div>"
      ],
      "text/plain": [
       "event_type  user_id        level_choice         pack_choice purchase  \\\n",
       "0             27832                 NaT                 NaT      NaT   \n",
       "1             27833                 NaT                 NaT      NaT   \n",
       "2             27834                 NaT                 NaT      NaT   \n",
       "3             27835 2018-01-01 20:37:22 2018-01-01 20:38:43      NaT   \n",
       "4             27836                 NaT                 NaT      NaT   \n",
       "\n",
       "event_type        registration     tutorial_finish      tutorial_start  \\\n",
       "0          2018-01-01 03:48:40                 NaT                 NaT   \n",
       "1          2018-01-01 04:07:25 2018-01-01 17:50:08 2018-01-01 17:47:40   \n",
       "2          2018-01-01 08:35:10 2018-01-01 19:48:01 2018-01-01 19:46:11   \n",
       "3          2018-01-01 11:54:47 2018-01-01 15:06:15 2018-01-01 15:00:51   \n",
       "4          2018-01-01 13:28:07 2018-01-01 15:42:58 2018-01-01 14:54:40   \n",
       "\n",
       "event_type user_group  \n",
       "0           not_start  \n",
       "1            finished  \n",
       "2            finished  \n",
       "3            finished  \n",
       "4            finished  "
      ]
     },
     "execution_count": 3,
     "metadata": {},
     "output_type": "execute_result"
    }
   ],
   "source": [
    "# Функция определяющая статус обучения для пользователя\n",
    "def status(x, user_id):\n",
    "    if x[user_id] in tutorial_finish_list:\n",
    "        return 'finished'\n",
    "    elif x[user_id] in tutorial_start_list:\n",
    "        return 'not_finished'\n",
    "    else:\n",
    "        return 'not_start'\n",
    "\n",
    "# Создаем признак показывающий в какую группу входит пользователь исходя из статуса его обучения прошел/начал но неокончил/не проходил\n",
    "pivot_df['user_group'] = pivot_df.apply(lambda x: status(x, 'user_id'), axis=1)\n",
    "pivot_df.head(5)"
   ]
  },
  {
   "cell_type": "code",
   "execution_count": null,
   "metadata": {},
   "outputs": [
    {
     "data": {
      "text/html": [
       "<div>\n",
       "<style scoped>\n",
       "    .dataframe tbody tr th:only-of-type {\n",
       "        vertical-align: middle;\n",
       "    }\n",
       "\n",
       "    .dataframe tbody tr th {\n",
       "        vertical-align: top;\n",
       "    }\n",
       "\n",
       "    .dataframe thead th {\n",
       "        text-align: right;\n",
       "    }\n",
       "</style>\n",
       "<table border=\"1\" class=\"dataframe\">\n",
       "  <thead>\n",
       "    <tr style=\"text-align: right;\">\n",
       "      <th>event_type</th>\n",
       "      <th>user_id</th>\n",
       "      <th>level_choice</th>\n",
       "      <th>pack_choice</th>\n",
       "      <th>purchase</th>\n",
       "      <th>registration</th>\n",
       "      <th>tutorial_finish</th>\n",
       "      <th>tutorial_start</th>\n",
       "      <th>user_group</th>\n",
       "      <th>delta_start</th>\n",
       "      <th>delta_finish</th>\n",
       "      <th>delta_level_choice</th>\n",
       "      <th>delta_pack_choice</th>\n",
       "      <th>delta_purchase</th>\n",
       "      <th>delta_registration-purchase</th>\n",
       "    </tr>\n",
       "  </thead>\n",
       "  <tbody>\n",
       "    <tr>\n",
       "      <th>0</th>\n",
       "      <td>27832</td>\n",
       "      <td>NaT</td>\n",
       "      <td>NaT</td>\n",
       "      <td>NaT</td>\n",
       "      <td>2018-01-01 03:48:40</td>\n",
       "      <td>NaT</td>\n",
       "      <td>NaT</td>\n",
       "      <td>not_start</td>\n",
       "      <td>NaN</td>\n",
       "      <td>NaN</td>\n",
       "      <td>NaN</td>\n",
       "      <td>NaN</td>\n",
       "      <td>NaN</td>\n",
       "      <td>NaN</td>\n",
       "    </tr>\n",
       "    <tr>\n",
       "      <th>1</th>\n",
       "      <td>27833</td>\n",
       "      <td>NaT</td>\n",
       "      <td>NaT</td>\n",
       "      <td>NaT</td>\n",
       "      <td>2018-01-01 04:07:25</td>\n",
       "      <td>2018-01-01 17:50:08</td>\n",
       "      <td>2018-01-01 17:47:40</td>\n",
       "      <td>finished</td>\n",
       "      <td>13.670833</td>\n",
       "      <td>0.041111</td>\n",
       "      <td>NaN</td>\n",
       "      <td>NaN</td>\n",
       "      <td>NaN</td>\n",
       "      <td>NaN</td>\n",
       "    </tr>\n",
       "    <tr>\n",
       "      <th>2</th>\n",
       "      <td>27834</td>\n",
       "      <td>NaT</td>\n",
       "      <td>NaT</td>\n",
       "      <td>NaT</td>\n",
       "      <td>2018-01-01 08:35:10</td>\n",
       "      <td>2018-01-01 19:48:01</td>\n",
       "      <td>2018-01-01 19:46:11</td>\n",
       "      <td>finished</td>\n",
       "      <td>11.183611</td>\n",
       "      <td>0.030556</td>\n",
       "      <td>NaN</td>\n",
       "      <td>NaN</td>\n",
       "      <td>NaN</td>\n",
       "      <td>NaN</td>\n",
       "    </tr>\n",
       "    <tr>\n",
       "      <th>3</th>\n",
       "      <td>27835</td>\n",
       "      <td>2018-01-01 20:37:22</td>\n",
       "      <td>2018-01-01 20:38:43</td>\n",
       "      <td>NaT</td>\n",
       "      <td>2018-01-01 11:54:47</td>\n",
       "      <td>2018-01-01 15:06:15</td>\n",
       "      <td>2018-01-01 15:00:51</td>\n",
       "      <td>finished</td>\n",
       "      <td>3.101111</td>\n",
       "      <td>0.090000</td>\n",
       "      <td>8.709722</td>\n",
       "      <td>0.0225</td>\n",
       "      <td>NaN</td>\n",
       "      <td>NaN</td>\n",
       "    </tr>\n",
       "    <tr>\n",
       "      <th>4</th>\n",
       "      <td>27836</td>\n",
       "      <td>NaT</td>\n",
       "      <td>NaT</td>\n",
       "      <td>NaT</td>\n",
       "      <td>2018-01-01 13:28:07</td>\n",
       "      <td>2018-01-01 15:42:58</td>\n",
       "      <td>2018-01-01 14:54:40</td>\n",
       "      <td>finished</td>\n",
       "      <td>1.442500</td>\n",
       "      <td>0.805000</td>\n",
       "      <td>NaN</td>\n",
       "      <td>NaN</td>\n",
       "      <td>NaN</td>\n",
       "      <td>NaN</td>\n",
       "    </tr>\n",
       "  </tbody>\n",
       "</table>\n",
       "</div>"
      ],
      "text/plain": [
       "event_type  user_id        level_choice         pack_choice purchase  \\\n",
       "0             27832                 NaT                 NaT      NaT   \n",
       "1             27833                 NaT                 NaT      NaT   \n",
       "2             27834                 NaT                 NaT      NaT   \n",
       "3             27835 2018-01-01 20:37:22 2018-01-01 20:38:43      NaT   \n",
       "4             27836                 NaT                 NaT      NaT   \n",
       "\n",
       "event_type        registration     tutorial_finish      tutorial_start  \\\n",
       "0          2018-01-01 03:48:40                 NaT                 NaT   \n",
       "1          2018-01-01 04:07:25 2018-01-01 17:50:08 2018-01-01 17:47:40   \n",
       "2          2018-01-01 08:35:10 2018-01-01 19:48:01 2018-01-01 19:46:11   \n",
       "3          2018-01-01 11:54:47 2018-01-01 15:06:15 2018-01-01 15:00:51   \n",
       "4          2018-01-01 13:28:07 2018-01-01 15:42:58 2018-01-01 14:54:40   \n",
       "\n",
       "event_type user_group  delta_start  delta_finish  delta_level_choice  \\\n",
       "0           not_start          NaN           NaN                 NaN   \n",
       "1            finished    13.670833      0.041111                 NaN   \n",
       "2            finished    11.183611      0.030556                 NaN   \n",
       "3            finished     3.101111      0.090000            8.709722   \n",
       "4            finished     1.442500      0.805000                 NaN   \n",
       "\n",
       "event_type  delta_pack_choice  delta_purchase  delta_registration-purchase  \n",
       "0                         NaN             NaN                          NaN  \n",
       "1                         NaN             NaN                          NaN  \n",
       "2                         NaN             NaN                          NaN  \n",
       "3                      0.0225             NaN                          NaN  \n",
       "4                         NaN             NaN                          NaN  "
      ]
     },
     "execution_count": 4,
     "metadata": {},
     "output_type": "execute_result"
    }
   ],
   "source": [
    "# Создаем новые признаки\n",
    "\"\"\"\n",
    "delta_start - Время между регистрацией и началом обучения\n",
    "delta_finish - Время между началом обучения и концом обучения\n",
    "delta_level_choice - Время между регистрацией и выбором уровня сложности\n",
    "delta_pack_choice - Время между выбором уровня сложности и выбором пакета вопросов\n",
    "delta_purchase - Время между выбором пакета вопросов и покупки платных вопросов\n",
    "delta_registration-purchase - Время между регистрацией и покупкой платных вопросов\n",
    "\"\"\"\n",
    "pivot_df['delta_start'] = ((\n",
    "    pivot_df['tutorial_start'] - pivot_df['registration'])/pd.Timedelta('1 minute')/60)\n",
    "pivot_df['delta_finish'] = ((\n",
    "    pivot_df['tutorial_finish'] - pivot_df['tutorial_start'])/pd.Timedelta('1 minute')/60)\n",
    "pivot_df['delta_level_choice'] = ((\n",
    "    pivot_df['level_choice'] - pivot_df['registration'])/pd.Timedelta('1 minute')/60)\n",
    "pivot_df['delta_pack_choice'] = ((\n",
    "    pivot_df['pack_choice'] - pivot_df['level_choice'])/pd.Timedelta('1 minute')/60)\n",
    "pivot_df['delta_purchase'] = ((\n",
    "    pivot_df['purchase'] - pivot_df['pack_choice'])/pd.Timedelta('1 minute')/60)\n",
    "pivot_df['delta_registration-purchase'] = ((\n",
    "    pivot_df['purchase'] - pivot_df['registration'])/pd.Timedelta('1 minute')/60)\n",
    "\n",
    "pivot_df.head(5)"
   ]
  },
  {
   "cell_type": "code",
   "execution_count": null,
   "metadata": {},
   "outputs": [
    {
     "data": {
      "text/html": [
       "<div>\n",
       "<style scoped>\n",
       "    .dataframe tbody tr th:only-of-type {\n",
       "        vertical-align: middle;\n",
       "    }\n",
       "\n",
       "    .dataframe tbody tr th {\n",
       "        vertical-align: top;\n",
       "    }\n",
       "\n",
       "    .dataframe thead th {\n",
       "        text-align: right;\n",
       "    }\n",
       "</style>\n",
       "<table border=\"1\" class=\"dataframe\">\n",
       "  <thead>\n",
       "    <tr style=\"text-align: right;\">\n",
       "      <th>event_type</th>\n",
       "      <th>delta_start</th>\n",
       "      <th>delta_finish</th>\n",
       "      <th>delta_level_choice</th>\n",
       "      <th>delta_pack_choice</th>\n",
       "      <th>delta_purchase</th>\n",
       "      <th>delta_registration-purchase</th>\n",
       "    </tr>\n",
       "    <tr>\n",
       "      <th>user_group</th>\n",
       "      <th></th>\n",
       "      <th></th>\n",
       "      <th></th>\n",
       "      <th></th>\n",
       "      <th></th>\n",
       "      <th></th>\n",
       "    </tr>\n",
       "  </thead>\n",
       "  <tbody>\n",
       "    <tr>\n",
       "      <th>finished</th>\n",
       "      <td>4.52</td>\n",
       "      <td>0.2</td>\n",
       "      <td>7.09</td>\n",
       "      <td>0.09</td>\n",
       "      <td>89.30</td>\n",
       "      <td>96.50</td>\n",
       "    </tr>\n",
       "    <tr>\n",
       "      <th>not_finished</th>\n",
       "      <td>5.42</td>\n",
       "      <td>NaN</td>\n",
       "      <td>8.22</td>\n",
       "      <td>0.08</td>\n",
       "      <td>93.25</td>\n",
       "      <td>101.55</td>\n",
       "    </tr>\n",
       "    <tr>\n",
       "      <th>not_start</th>\n",
       "      <td>NaN</td>\n",
       "      <td>NaN</td>\n",
       "      <td>5.26</td>\n",
       "      <td>0.09</td>\n",
       "      <td>100.83</td>\n",
       "      <td>105.10</td>\n",
       "    </tr>\n",
       "  </tbody>\n",
       "</table>\n",
       "</div>"
      ],
      "text/plain": [
       "event_type    delta_start  delta_finish  delta_level_choice  \\\n",
       "user_group                                                    \n",
       "finished             4.52           0.2                7.09   \n",
       "not_finished         5.42           NaN                8.22   \n",
       "not_start             NaN           NaN                5.26   \n",
       "\n",
       "event_type    delta_pack_choice  delta_purchase  delta_registration-purchase  \n",
       "user_group                                                                    \n",
       "finished                   0.09           89.30                        96.50  \n",
       "not_finished               0.08           93.25                       101.55  \n",
       "not_start                  0.09          100.83                       105.10  "
      ]
     },
     "execution_count": 5,
     "metadata": {},
     "output_type": "execute_result"
    }
   ],
   "source": [
    "# Групируем по группе пользователя и определяем среднее значение для времени между этапами\n",
    "table_group = pivot_df.groupby('user_group')[[\n",
    "    'delta_start', 'delta_finish', 'delta_level_choice', 'delta_pack_choice',\n",
    "    'delta_purchase', 'delta_registration-purchase']].mean().round(2)\n",
    "\n",
    "table_group"
   ]
  },
  {
   "cell_type": "code",
   "execution_count": null,
   "metadata": {},
   "outputs": [
    {
     "data": {
      "application/vnd.plotly.v1+json": {
       "config": {
        "plotlyServerURL": "https://plot.ly"
       },
       "data": [
        {
         "hovertemplate": "Группа пользователей:=finished<br>Тип события=%{x}<br>время прохождения этапов в ч.=%{y}<extra></extra>",
         "legendgroup": "finished",
         "marker": {
          "color": "#636efa",
          "pattern": {
           "shape": ""
          }
         },
         "name": "finished",
         "orientation": "v",
         "showlegend": true,
         "textposition": "auto",
         "type": "bar",
         "x": [
          "delta_start",
          "delta_finish",
          "delta_level_choice",
          "delta_pack_choice",
          "delta_purchase",
          "delta_registration-purchase"
         ],
         "xaxis": "x",
         "y": {
          "bdata": "FK5H4XoUEkCamZmZmZnJP1yPwvUoXBxACtejcD0Ktz8zMzMzM1NWQAAAAAAAIFhA",
          "dtype": "f8"
         },
         "yaxis": "y"
        },
        {
         "hovertemplate": "Группа пользователей:=not_finished<br>Тип события=%{x}<br>время прохождения этапов в ч.=%{y}<extra></extra>",
         "legendgroup": "not_finished",
         "marker": {
          "color": "#EF553B",
          "pattern": {
           "shape": ""
          }
         },
         "name": "not_finished",
         "orientation": "v",
         "showlegend": true,
         "textposition": "auto",
         "type": "bar",
         "x": [
          "delta_start",
          "delta_finish",
          "delta_level_choice",
          "delta_pack_choice",
          "delta_purchase",
          "delta_registration-purchase"
         ],
         "xaxis": "x2",
         "y": {
          "bdata": "rkfhehSuFUAAAAAAAAD4f3E9CtejcCBAexSuR+F6tD8AAAAAAFBXQDMzMzMzY1lA",
          "dtype": "f8"
         },
         "yaxis": "y2"
        },
        {
         "hovertemplate": "Группа пользователей:=not_start<br>Тип события=%{x}<br>время прохождения этапов в ч.=%{y}<extra></extra>",
         "legendgroup": "not_start",
         "marker": {
          "color": "#00cc96",
          "pattern": {
           "shape": ""
          }
         },
         "name": "not_start",
         "orientation": "v",
         "showlegend": true,
         "textposition": "auto",
         "type": "bar",
         "x": [
          "delta_start",
          "delta_finish",
          "delta_level_choice",
          "delta_pack_choice",
          "delta_purchase",
          "delta_registration-purchase"
         ],
         "xaxis": "x3",
         "y": {
          "bdata": "AAAAAAAA+H8AAAAAAAD4fwrXo3A9ChVACtejcD0Ktz+F61G4HjVZQGZmZmZmRlpA",
          "dtype": "f8"
         },
         "yaxis": "y3"
        }
       ],
       "layout": {
        "annotations": [
         {
          "font": {},
          "showarrow": false,
          "text": "Группа пользователей:=finished",
          "x": 0.15999999999999998,
          "xanchor": "center",
          "xref": "paper",
          "y": 1,
          "yanchor": "bottom",
          "yref": "paper"
         },
         {
          "font": {},
          "showarrow": false,
          "text": "Группа пользователей:=not_finished",
          "x": 0.49999999999999994,
          "xanchor": "center",
          "xref": "paper",
          "y": 1,
          "yanchor": "bottom",
          "yref": "paper"
         },
         {
          "font": {},
          "showarrow": false,
          "text": "Группа пользователей:=not_start",
          "x": 0.8399999999999999,
          "xanchor": "center",
          "xref": "paper",
          "y": 1,
          "yanchor": "bottom",
          "yref": "paper"
         }
        ],
        "barmode": "relative",
        "height": 500,
        "legend": {
         "title": {
          "text": "Группа пользователей:"
         },
         "tracegroupgap": 0
        },
        "template": {
         "data": {
          "bar": [
           {
            "error_x": {
             "color": "#2a3f5f"
            },
            "error_y": {
             "color": "#2a3f5f"
            },
            "marker": {
             "line": {
              "color": "#E5ECF6",
              "width": 0.5
             },
             "pattern": {
              "fillmode": "overlay",
              "size": 10,
              "solidity": 0.2
             }
            },
            "type": "bar"
           }
          ],
          "barpolar": [
           {
            "marker": {
             "line": {
              "color": "#E5ECF6",
              "width": 0.5
             },
             "pattern": {
              "fillmode": "overlay",
              "size": 10,
              "solidity": 0.2
             }
            },
            "type": "barpolar"
           }
          ],
          "carpet": [
           {
            "aaxis": {
             "endlinecolor": "#2a3f5f",
             "gridcolor": "white",
             "linecolor": "white",
             "minorgridcolor": "white",
             "startlinecolor": "#2a3f5f"
            },
            "baxis": {
             "endlinecolor": "#2a3f5f",
             "gridcolor": "white",
             "linecolor": "white",
             "minorgridcolor": "white",
             "startlinecolor": "#2a3f5f"
            },
            "type": "carpet"
           }
          ],
          "choropleth": [
           {
            "colorbar": {
             "outlinewidth": 0,
             "ticks": ""
            },
            "type": "choropleth"
           }
          ],
          "contour": [
           {
            "colorbar": {
             "outlinewidth": 0,
             "ticks": ""
            },
            "colorscale": [
             [
              0,
              "#0d0887"
             ],
             [
              0.1111111111111111,
              "#46039f"
             ],
             [
              0.2222222222222222,
              "#7201a8"
             ],
             [
              0.3333333333333333,
              "#9c179e"
             ],
             [
              0.4444444444444444,
              "#bd3786"
             ],
             [
              0.5555555555555556,
              "#d8576b"
             ],
             [
              0.6666666666666666,
              "#ed7953"
             ],
             [
              0.7777777777777778,
              "#fb9f3a"
             ],
             [
              0.8888888888888888,
              "#fdca26"
             ],
             [
              1,
              "#f0f921"
             ]
            ],
            "type": "contour"
           }
          ],
          "contourcarpet": [
           {
            "colorbar": {
             "outlinewidth": 0,
             "ticks": ""
            },
            "type": "contourcarpet"
           }
          ],
          "heatmap": [
           {
            "colorbar": {
             "outlinewidth": 0,
             "ticks": ""
            },
            "colorscale": [
             [
              0,
              "#0d0887"
             ],
             [
              0.1111111111111111,
              "#46039f"
             ],
             [
              0.2222222222222222,
              "#7201a8"
             ],
             [
              0.3333333333333333,
              "#9c179e"
             ],
             [
              0.4444444444444444,
              "#bd3786"
             ],
             [
              0.5555555555555556,
              "#d8576b"
             ],
             [
              0.6666666666666666,
              "#ed7953"
             ],
             [
              0.7777777777777778,
              "#fb9f3a"
             ],
             [
              0.8888888888888888,
              "#fdca26"
             ],
             [
              1,
              "#f0f921"
             ]
            ],
            "type": "heatmap"
           }
          ],
          "histogram": [
           {
            "marker": {
             "pattern": {
              "fillmode": "overlay",
              "size": 10,
              "solidity": 0.2
             }
            },
            "type": "histogram"
           }
          ],
          "histogram2d": [
           {
            "colorbar": {
             "outlinewidth": 0,
             "ticks": ""
            },
            "colorscale": [
             [
              0,
              "#0d0887"
             ],
             [
              0.1111111111111111,
              "#46039f"
             ],
             [
              0.2222222222222222,
              "#7201a8"
             ],
             [
              0.3333333333333333,
              "#9c179e"
             ],
             [
              0.4444444444444444,
              "#bd3786"
             ],
             [
              0.5555555555555556,
              "#d8576b"
             ],
             [
              0.6666666666666666,
              "#ed7953"
             ],
             [
              0.7777777777777778,
              "#fb9f3a"
             ],
             [
              0.8888888888888888,
              "#fdca26"
             ],
             [
              1,
              "#f0f921"
             ]
            ],
            "type": "histogram2d"
           }
          ],
          "histogram2dcontour": [
           {
            "colorbar": {
             "outlinewidth": 0,
             "ticks": ""
            },
            "colorscale": [
             [
              0,
              "#0d0887"
             ],
             [
              0.1111111111111111,
              "#46039f"
             ],
             [
              0.2222222222222222,
              "#7201a8"
             ],
             [
              0.3333333333333333,
              "#9c179e"
             ],
             [
              0.4444444444444444,
              "#bd3786"
             ],
             [
              0.5555555555555556,
              "#d8576b"
             ],
             [
              0.6666666666666666,
              "#ed7953"
             ],
             [
              0.7777777777777778,
              "#fb9f3a"
             ],
             [
              0.8888888888888888,
              "#fdca26"
             ],
             [
              1,
              "#f0f921"
             ]
            ],
            "type": "histogram2dcontour"
           }
          ],
          "mesh3d": [
           {
            "colorbar": {
             "outlinewidth": 0,
             "ticks": ""
            },
            "type": "mesh3d"
           }
          ],
          "parcoords": [
           {
            "line": {
             "colorbar": {
              "outlinewidth": 0,
              "ticks": ""
             }
            },
            "type": "parcoords"
           }
          ],
          "pie": [
           {
            "automargin": true,
            "type": "pie"
           }
          ],
          "scatter": [
           {
            "fillpattern": {
             "fillmode": "overlay",
             "size": 10,
             "solidity": 0.2
            },
            "type": "scatter"
           }
          ],
          "scatter3d": [
           {
            "line": {
             "colorbar": {
              "outlinewidth": 0,
              "ticks": ""
             }
            },
            "marker": {
             "colorbar": {
              "outlinewidth": 0,
              "ticks": ""
             }
            },
            "type": "scatter3d"
           }
          ],
          "scattercarpet": [
           {
            "marker": {
             "colorbar": {
              "outlinewidth": 0,
              "ticks": ""
             }
            },
            "type": "scattercarpet"
           }
          ],
          "scattergeo": [
           {
            "marker": {
             "colorbar": {
              "outlinewidth": 0,
              "ticks": ""
             }
            },
            "type": "scattergeo"
           }
          ],
          "scattergl": [
           {
            "marker": {
             "colorbar": {
              "outlinewidth": 0,
              "ticks": ""
             }
            },
            "type": "scattergl"
           }
          ],
          "scattermap": [
           {
            "marker": {
             "colorbar": {
              "outlinewidth": 0,
              "ticks": ""
             }
            },
            "type": "scattermap"
           }
          ],
          "scattermapbox": [
           {
            "marker": {
             "colorbar": {
              "outlinewidth": 0,
              "ticks": ""
             }
            },
            "type": "scattermapbox"
           }
          ],
          "scatterpolar": [
           {
            "marker": {
             "colorbar": {
              "outlinewidth": 0,
              "ticks": ""
             }
            },
            "type": "scatterpolar"
           }
          ],
          "scatterpolargl": [
           {
            "marker": {
             "colorbar": {
              "outlinewidth": 0,
              "ticks": ""
             }
            },
            "type": "scatterpolargl"
           }
          ],
          "scatterternary": [
           {
            "marker": {
             "colorbar": {
              "outlinewidth": 0,
              "ticks": ""
             }
            },
            "type": "scatterternary"
           }
          ],
          "surface": [
           {
            "colorbar": {
             "outlinewidth": 0,
             "ticks": ""
            },
            "colorscale": [
             [
              0,
              "#0d0887"
             ],
             [
              0.1111111111111111,
              "#46039f"
             ],
             [
              0.2222222222222222,
              "#7201a8"
             ],
             [
              0.3333333333333333,
              "#9c179e"
             ],
             [
              0.4444444444444444,
              "#bd3786"
             ],
             [
              0.5555555555555556,
              "#d8576b"
             ],
             [
              0.6666666666666666,
              "#ed7953"
             ],
             [
              0.7777777777777778,
              "#fb9f3a"
             ],
             [
              0.8888888888888888,
              "#fdca26"
             ],
             [
              1,
              "#f0f921"
             ]
            ],
            "type": "surface"
           }
          ],
          "table": [
           {
            "cells": {
             "fill": {
              "color": "#EBF0F8"
             },
             "line": {
              "color": "white"
             }
            },
            "header": {
             "fill": {
              "color": "#C8D4E3"
             },
             "line": {
              "color": "white"
             }
            },
            "type": "table"
           }
          ]
         },
         "layout": {
          "annotationdefaults": {
           "arrowcolor": "#2a3f5f",
           "arrowhead": 0,
           "arrowwidth": 1
          },
          "autotypenumbers": "strict",
          "coloraxis": {
           "colorbar": {
            "outlinewidth": 0,
            "ticks": ""
           }
          },
          "colorscale": {
           "diverging": [
            [
             0,
             "#8e0152"
            ],
            [
             0.1,
             "#c51b7d"
            ],
            [
             0.2,
             "#de77ae"
            ],
            [
             0.3,
             "#f1b6da"
            ],
            [
             0.4,
             "#fde0ef"
            ],
            [
             0.5,
             "#f7f7f7"
            ],
            [
             0.6,
             "#e6f5d0"
            ],
            [
             0.7,
             "#b8e186"
            ],
            [
             0.8,
             "#7fbc41"
            ],
            [
             0.9,
             "#4d9221"
            ],
            [
             1,
             "#276419"
            ]
           ],
           "sequential": [
            [
             0,
             "#0d0887"
            ],
            [
             0.1111111111111111,
             "#46039f"
            ],
            [
             0.2222222222222222,
             "#7201a8"
            ],
            [
             0.3333333333333333,
             "#9c179e"
            ],
            [
             0.4444444444444444,
             "#bd3786"
            ],
            [
             0.5555555555555556,
             "#d8576b"
            ],
            [
             0.6666666666666666,
             "#ed7953"
            ],
            [
             0.7777777777777778,
             "#fb9f3a"
            ],
            [
             0.8888888888888888,
             "#fdca26"
            ],
            [
             1,
             "#f0f921"
            ]
           ],
           "sequentialminus": [
            [
             0,
             "#0d0887"
            ],
            [
             0.1111111111111111,
             "#46039f"
            ],
            [
             0.2222222222222222,
             "#7201a8"
            ],
            [
             0.3333333333333333,
             "#9c179e"
            ],
            [
             0.4444444444444444,
             "#bd3786"
            ],
            [
             0.5555555555555556,
             "#d8576b"
            ],
            [
             0.6666666666666666,
             "#ed7953"
            ],
            [
             0.7777777777777778,
             "#fb9f3a"
            ],
            [
             0.8888888888888888,
             "#fdca26"
            ],
            [
             1,
             "#f0f921"
            ]
           ]
          },
          "colorway": [
           "#636efa",
           "#EF553B",
           "#00cc96",
           "#ab63fa",
           "#FFA15A",
           "#19d3f3",
           "#FF6692",
           "#B6E880",
           "#FF97FF",
           "#FECB52"
          ],
          "font": {
           "color": "#2a3f5f"
          },
          "geo": {
           "bgcolor": "white",
           "lakecolor": "white",
           "landcolor": "#E5ECF6",
           "showlakes": true,
           "showland": true,
           "subunitcolor": "white"
          },
          "hoverlabel": {
           "align": "left"
          },
          "hovermode": "closest",
          "mapbox": {
           "style": "light"
          },
          "paper_bgcolor": "white",
          "plot_bgcolor": "#E5ECF6",
          "polar": {
           "angularaxis": {
            "gridcolor": "white",
            "linecolor": "white",
            "ticks": ""
           },
           "bgcolor": "#E5ECF6",
           "radialaxis": {
            "gridcolor": "white",
            "linecolor": "white",
            "ticks": ""
           }
          },
          "scene": {
           "xaxis": {
            "backgroundcolor": "#E5ECF6",
            "gridcolor": "white",
            "gridwidth": 2,
            "linecolor": "white",
            "showbackground": true,
            "ticks": "",
            "zerolinecolor": "white"
           },
           "yaxis": {
            "backgroundcolor": "#E5ECF6",
            "gridcolor": "white",
            "gridwidth": 2,
            "linecolor": "white",
            "showbackground": true,
            "ticks": "",
            "zerolinecolor": "white"
           },
           "zaxis": {
            "backgroundcolor": "#E5ECF6",
            "gridcolor": "white",
            "gridwidth": 2,
            "linecolor": "white",
            "showbackground": true,
            "ticks": "",
            "zerolinecolor": "white"
           }
          },
          "shapedefaults": {
           "line": {
            "color": "#2a3f5f"
           }
          },
          "ternary": {
           "aaxis": {
            "gridcolor": "white",
            "linecolor": "white",
            "ticks": ""
           },
           "baxis": {
            "gridcolor": "white",
            "linecolor": "white",
            "ticks": ""
           },
           "bgcolor": "#E5ECF6",
           "caxis": {
            "gridcolor": "white",
            "linecolor": "white",
            "ticks": ""
           }
          },
          "title": {
           "x": 0.05
          },
          "xaxis": {
           "automargin": true,
           "gridcolor": "white",
           "linecolor": "white",
           "ticks": "",
           "title": {
            "standoff": 15
           },
           "zerolinecolor": "white",
           "zerolinewidth": 2
          },
          "yaxis": {
           "automargin": true,
           "gridcolor": "white",
           "linecolor": "white",
           "ticks": "",
           "title": {
            "standoff": 15
           },
           "zerolinecolor": "white",
           "zerolinewidth": 2
          }
         }
        },
        "title": {
         "text": "Среднее время между прохождения этапов игры по группам пользователей"
        },
        "width": 1000,
        "xaxis": {
         "anchor": "y",
         "domain": [
          0,
          0.31999999999999995
         ],
         "title": {
          "text": "Тип события"
         }
        },
        "xaxis2": {
         "anchor": "y2",
         "domain": [
          0.33999999999999997,
          0.6599999999999999
         ],
         "matches": "x",
         "title": {
          "text": "Тип события"
         }
        },
        "xaxis3": {
         "anchor": "y3",
         "domain": [
          0.6799999999999999,
          0.9999999999999999
         ],
         "matches": "x",
         "title": {
          "text": "Тип события"
         }
        },
        "yaxis": {
         "anchor": "x",
         "domain": [
          0,
          1
         ],
         "title": {
          "text": "время прохождения этапов в ч."
         }
        },
        "yaxis2": {
         "anchor": "x2",
         "domain": [
          0,
          1
         ],
         "matches": "y",
         "showticklabels": false
        },
        "yaxis3": {
         "anchor": "x3",
         "domain": [
          0,
          1
         ],
         "matches": "y",
         "showticklabels": false
        }
       }
      }
     },
     "metadata": {},
     "output_type": "display_data"
    }
   ],
   "source": [
    "# Столбчатая диаграмм\n",
    "fig_1 = px.bar(\n",
    "    x= 'event_type',\n",
    "    y= table_group.columns,\n",
    "    color= table_group.index,\n",
    "    facet_col=table_group.index,\n",
    "    data_frame=table_group,\n",
    "    orientation='v',\n",
    "    labels = { \"value\" :  \"время прохождения этапов в ч.\", \"event_type\": \"Тип события\", \"user_group\": \"Группа пользователей:\"},\n",
    "    height=500,\n",
    "    width=1000,\n",
    "    title=\"Среднее время между прохождения этапов игры по группам пользователей\"\n",
    ")\n",
    "fig_1.show()"
   ]
  },
  {
   "cell_type": "markdown",
   "metadata": {},
   "source": [
    "## <center> ВЫВОД\n",
    "\n",
    "Из графика \"Среднее время между прохождения этапов игры по группам пользователей\" видно, что пользователи прошедшие обучение проходят этапы игры бастрее всех (в среднем от регистрации до покупки у них уходит 96.50 ч.). Помедленее это делают пользователи не закончившие обучение (в среднем от регистрации до покупки у них уходит 101.55 ч.) и медленее всех проходят этапы пользователи не проходившие обучение (в среднем от регистрации до покупки у них уходит 105.10 ч.). Исключением служат этапы выбора уровня сложности тут лучший результат показывают пользователи не проходившие обучение (возможно из за того что это их первое после регистрации взаимодействие с игрой) и этап выбора пакета вопросов где результаты равны. Из этого можно сказать что обучение влияет на время прохождения этапов игры. Более подробную информацию о времени прохождении этапов можно посмотреть в таблице: table_group "
   ]
  },
  {
   "cell_type": "markdown",
   "metadata": {},
   "source": [
    "## <center> Гипотеза 2"
   ]
  },
  {
   "cell_type": "markdown",
   "metadata": {},
   "source": [
    "<center> Существует ли зависимость между вероятностью оплаты и количеством обучений, которые начинал или завершал пользователь?"
   ]
  },
  {
   "cell_type": "markdown",
   "metadata": {},
   "source": [
    "*** В вопросе указано \"количеством обучений, которые начинал ИЛИ завершал пользователь?\" союз или подразумевает выполнение одного из перечисленных условий например если обучение было начато несколько раз но ниразу неокончино то его тоже надо включить в выборку. Я этого не делал и работал только с обучениями которые были завершины, так как завершенное обучение оказывают большее влияние на оплату, что я и показываю в первом коде после этого примечания. (в данном примере это не оказывает существенного влияния если при поиске количества обучений подставить 'tutorial_start' итоговые данные по проекту изменятся на 0,1%)"
   ]
  },
  {
   "cell_type": "code",
   "execution_count": null,
   "metadata": {},
   "outputs": [
    {
     "data": {
      "text/plain": [
       "user_group\n",
       "finished        90.4\n",
       "not_finished     8.2\n",
       "not_start        1.4\n",
       "Name: user_id, dtype: float64"
      ]
     },
     "execution_count": 7,
     "metadata": {},
     "output_type": "execute_result"
    }
   ],
   "source": [
    "# Доля групп от общего числа покупателей в %\n",
    "group_from_all_user_purchase = round((\n",
    "    pivot_df[~pivot_df['purchase'].isna()].groupby('user_group')['user_id'].nunique()/\n",
    "    pivot_df[~pivot_df['purchase'].isna()]['user_id'].nunique())*100, 1)\n",
    "\n",
    "group_from_all_user_purchase"
   ]
  },
  {
   "cell_type": "code",
   "execution_count": null,
   "metadata": {},
   "outputs": [
    {
     "data": {
      "application/vnd.plotly.v1+json": {
       "config": {
        "plotlyServerURL": "https://plot.ly"
       },
       "data": [
        {
         "domain": {
          "x": [
           0,
           1
          ],
          "y": [
           0,
           1
          ]
         },
         "hovertemplate": "label=%{label}<br>value=%{value}<extra></extra>",
         "labels": [
          "finished",
          "not_finished",
          "not_start"
         ],
         "legendgroup": "",
         "name": "",
         "showlegend": true,
         "type": "pie",
         "values": {
          "bdata": "mpmZmZmZVkBmZmZmZmYgQGZmZmZmZvY/",
          "dtype": "f8"
         }
        }
       ],
       "layout": {
        "height": 400,
        "legend": {
         "tracegroupgap": 0
        },
        "template": {
         "data": {
          "bar": [
           {
            "error_x": {
             "color": "#2a3f5f"
            },
            "error_y": {
             "color": "#2a3f5f"
            },
            "marker": {
             "line": {
              "color": "#E5ECF6",
              "width": 0.5
             },
             "pattern": {
              "fillmode": "overlay",
              "size": 10,
              "solidity": 0.2
             }
            },
            "type": "bar"
           }
          ],
          "barpolar": [
           {
            "marker": {
             "line": {
              "color": "#E5ECF6",
              "width": 0.5
             },
             "pattern": {
              "fillmode": "overlay",
              "size": 10,
              "solidity": 0.2
             }
            },
            "type": "barpolar"
           }
          ],
          "carpet": [
           {
            "aaxis": {
             "endlinecolor": "#2a3f5f",
             "gridcolor": "white",
             "linecolor": "white",
             "minorgridcolor": "white",
             "startlinecolor": "#2a3f5f"
            },
            "baxis": {
             "endlinecolor": "#2a3f5f",
             "gridcolor": "white",
             "linecolor": "white",
             "minorgridcolor": "white",
             "startlinecolor": "#2a3f5f"
            },
            "type": "carpet"
           }
          ],
          "choropleth": [
           {
            "colorbar": {
             "outlinewidth": 0,
             "ticks": ""
            },
            "type": "choropleth"
           }
          ],
          "contour": [
           {
            "colorbar": {
             "outlinewidth": 0,
             "ticks": ""
            },
            "colorscale": [
             [
              0,
              "#0d0887"
             ],
             [
              0.1111111111111111,
              "#46039f"
             ],
             [
              0.2222222222222222,
              "#7201a8"
             ],
             [
              0.3333333333333333,
              "#9c179e"
             ],
             [
              0.4444444444444444,
              "#bd3786"
             ],
             [
              0.5555555555555556,
              "#d8576b"
             ],
             [
              0.6666666666666666,
              "#ed7953"
             ],
             [
              0.7777777777777778,
              "#fb9f3a"
             ],
             [
              0.8888888888888888,
              "#fdca26"
             ],
             [
              1,
              "#f0f921"
             ]
            ],
            "type": "contour"
           }
          ],
          "contourcarpet": [
           {
            "colorbar": {
             "outlinewidth": 0,
             "ticks": ""
            },
            "type": "contourcarpet"
           }
          ],
          "heatmap": [
           {
            "colorbar": {
             "outlinewidth": 0,
             "ticks": ""
            },
            "colorscale": [
             [
              0,
              "#0d0887"
             ],
             [
              0.1111111111111111,
              "#46039f"
             ],
             [
              0.2222222222222222,
              "#7201a8"
             ],
             [
              0.3333333333333333,
              "#9c179e"
             ],
             [
              0.4444444444444444,
              "#bd3786"
             ],
             [
              0.5555555555555556,
              "#d8576b"
             ],
             [
              0.6666666666666666,
              "#ed7953"
             ],
             [
              0.7777777777777778,
              "#fb9f3a"
             ],
             [
              0.8888888888888888,
              "#fdca26"
             ],
             [
              1,
              "#f0f921"
             ]
            ],
            "type": "heatmap"
           }
          ],
          "histogram": [
           {
            "marker": {
             "pattern": {
              "fillmode": "overlay",
              "size": 10,
              "solidity": 0.2
             }
            },
            "type": "histogram"
           }
          ],
          "histogram2d": [
           {
            "colorbar": {
             "outlinewidth": 0,
             "ticks": ""
            },
            "colorscale": [
             [
              0,
              "#0d0887"
             ],
             [
              0.1111111111111111,
              "#46039f"
             ],
             [
              0.2222222222222222,
              "#7201a8"
             ],
             [
              0.3333333333333333,
              "#9c179e"
             ],
             [
              0.4444444444444444,
              "#bd3786"
             ],
             [
              0.5555555555555556,
              "#d8576b"
             ],
             [
              0.6666666666666666,
              "#ed7953"
             ],
             [
              0.7777777777777778,
              "#fb9f3a"
             ],
             [
              0.8888888888888888,
              "#fdca26"
             ],
             [
              1,
              "#f0f921"
             ]
            ],
            "type": "histogram2d"
           }
          ],
          "histogram2dcontour": [
           {
            "colorbar": {
             "outlinewidth": 0,
             "ticks": ""
            },
            "colorscale": [
             [
              0,
              "#0d0887"
             ],
             [
              0.1111111111111111,
              "#46039f"
             ],
             [
              0.2222222222222222,
              "#7201a8"
             ],
             [
              0.3333333333333333,
              "#9c179e"
             ],
             [
              0.4444444444444444,
              "#bd3786"
             ],
             [
              0.5555555555555556,
              "#d8576b"
             ],
             [
              0.6666666666666666,
              "#ed7953"
             ],
             [
              0.7777777777777778,
              "#fb9f3a"
             ],
             [
              0.8888888888888888,
              "#fdca26"
             ],
             [
              1,
              "#f0f921"
             ]
            ],
            "type": "histogram2dcontour"
           }
          ],
          "mesh3d": [
           {
            "colorbar": {
             "outlinewidth": 0,
             "ticks": ""
            },
            "type": "mesh3d"
           }
          ],
          "parcoords": [
           {
            "line": {
             "colorbar": {
              "outlinewidth": 0,
              "ticks": ""
             }
            },
            "type": "parcoords"
           }
          ],
          "pie": [
           {
            "automargin": true,
            "type": "pie"
           }
          ],
          "scatter": [
           {
            "fillpattern": {
             "fillmode": "overlay",
             "size": 10,
             "solidity": 0.2
            },
            "type": "scatter"
           }
          ],
          "scatter3d": [
           {
            "line": {
             "colorbar": {
              "outlinewidth": 0,
              "ticks": ""
             }
            },
            "marker": {
             "colorbar": {
              "outlinewidth": 0,
              "ticks": ""
             }
            },
            "type": "scatter3d"
           }
          ],
          "scattercarpet": [
           {
            "marker": {
             "colorbar": {
              "outlinewidth": 0,
              "ticks": ""
             }
            },
            "type": "scattercarpet"
           }
          ],
          "scattergeo": [
           {
            "marker": {
             "colorbar": {
              "outlinewidth": 0,
              "ticks": ""
             }
            },
            "type": "scattergeo"
           }
          ],
          "scattergl": [
           {
            "marker": {
             "colorbar": {
              "outlinewidth": 0,
              "ticks": ""
             }
            },
            "type": "scattergl"
           }
          ],
          "scattermap": [
           {
            "marker": {
             "colorbar": {
              "outlinewidth": 0,
              "ticks": ""
             }
            },
            "type": "scattermap"
           }
          ],
          "scattermapbox": [
           {
            "marker": {
             "colorbar": {
              "outlinewidth": 0,
              "ticks": ""
             }
            },
            "type": "scattermapbox"
           }
          ],
          "scatterpolar": [
           {
            "marker": {
             "colorbar": {
              "outlinewidth": 0,
              "ticks": ""
             }
            },
            "type": "scatterpolar"
           }
          ],
          "scatterpolargl": [
           {
            "marker": {
             "colorbar": {
              "outlinewidth": 0,
              "ticks": ""
             }
            },
            "type": "scatterpolargl"
           }
          ],
          "scatterternary": [
           {
            "marker": {
             "colorbar": {
              "outlinewidth": 0,
              "ticks": ""
             }
            },
            "type": "scatterternary"
           }
          ],
          "surface": [
           {
            "colorbar": {
             "outlinewidth": 0,
             "ticks": ""
            },
            "colorscale": [
             [
              0,
              "#0d0887"
             ],
             [
              0.1111111111111111,
              "#46039f"
             ],
             [
              0.2222222222222222,
              "#7201a8"
             ],
             [
              0.3333333333333333,
              "#9c179e"
             ],
             [
              0.4444444444444444,
              "#bd3786"
             ],
             [
              0.5555555555555556,
              "#d8576b"
             ],
             [
              0.6666666666666666,
              "#ed7953"
             ],
             [
              0.7777777777777778,
              "#fb9f3a"
             ],
             [
              0.8888888888888888,
              "#fdca26"
             ],
             [
              1,
              "#f0f921"
             ]
            ],
            "type": "surface"
           }
          ],
          "table": [
           {
            "cells": {
             "fill": {
              "color": "#EBF0F8"
             },
             "line": {
              "color": "white"
             }
            },
            "header": {
             "fill": {
              "color": "#C8D4E3"
             },
             "line": {
              "color": "white"
             }
            },
            "type": "table"
           }
          ]
         },
         "layout": {
          "annotationdefaults": {
           "arrowcolor": "#2a3f5f",
           "arrowhead": 0,
           "arrowwidth": 1
          },
          "autotypenumbers": "strict",
          "coloraxis": {
           "colorbar": {
            "outlinewidth": 0,
            "ticks": ""
           }
          },
          "colorscale": {
           "diverging": [
            [
             0,
             "#8e0152"
            ],
            [
             0.1,
             "#c51b7d"
            ],
            [
             0.2,
             "#de77ae"
            ],
            [
             0.3,
             "#f1b6da"
            ],
            [
             0.4,
             "#fde0ef"
            ],
            [
             0.5,
             "#f7f7f7"
            ],
            [
             0.6,
             "#e6f5d0"
            ],
            [
             0.7,
             "#b8e186"
            ],
            [
             0.8,
             "#7fbc41"
            ],
            [
             0.9,
             "#4d9221"
            ],
            [
             1,
             "#276419"
            ]
           ],
           "sequential": [
            [
             0,
             "#0d0887"
            ],
            [
             0.1111111111111111,
             "#46039f"
            ],
            [
             0.2222222222222222,
             "#7201a8"
            ],
            [
             0.3333333333333333,
             "#9c179e"
            ],
            [
             0.4444444444444444,
             "#bd3786"
            ],
            [
             0.5555555555555556,
             "#d8576b"
            ],
            [
             0.6666666666666666,
             "#ed7953"
            ],
            [
             0.7777777777777778,
             "#fb9f3a"
            ],
            [
             0.8888888888888888,
             "#fdca26"
            ],
            [
             1,
             "#f0f921"
            ]
           ],
           "sequentialminus": [
            [
             0,
             "#0d0887"
            ],
            [
             0.1111111111111111,
             "#46039f"
            ],
            [
             0.2222222222222222,
             "#7201a8"
            ],
            [
             0.3333333333333333,
             "#9c179e"
            ],
            [
             0.4444444444444444,
             "#bd3786"
            ],
            [
             0.5555555555555556,
             "#d8576b"
            ],
            [
             0.6666666666666666,
             "#ed7953"
            ],
            [
             0.7777777777777778,
             "#fb9f3a"
            ],
            [
             0.8888888888888888,
             "#fdca26"
            ],
            [
             1,
             "#f0f921"
            ]
           ]
          },
          "colorway": [
           "#636efa",
           "#EF553B",
           "#00cc96",
           "#ab63fa",
           "#FFA15A",
           "#19d3f3",
           "#FF6692",
           "#B6E880",
           "#FF97FF",
           "#FECB52"
          ],
          "font": {
           "color": "#2a3f5f"
          },
          "geo": {
           "bgcolor": "white",
           "lakecolor": "white",
           "landcolor": "#E5ECF6",
           "showlakes": true,
           "showland": true,
           "subunitcolor": "white"
          },
          "hoverlabel": {
           "align": "left"
          },
          "hovermode": "closest",
          "mapbox": {
           "style": "light"
          },
          "paper_bgcolor": "white",
          "plot_bgcolor": "#E5ECF6",
          "polar": {
           "angularaxis": {
            "gridcolor": "white",
            "linecolor": "white",
            "ticks": ""
           },
           "bgcolor": "#E5ECF6",
           "radialaxis": {
            "gridcolor": "white",
            "linecolor": "white",
            "ticks": ""
           }
          },
          "scene": {
           "xaxis": {
            "backgroundcolor": "#E5ECF6",
            "gridcolor": "white",
            "gridwidth": 2,
            "linecolor": "white",
            "showbackground": true,
            "ticks": "",
            "zerolinecolor": "white"
           },
           "yaxis": {
            "backgroundcolor": "#E5ECF6",
            "gridcolor": "white",
            "gridwidth": 2,
            "linecolor": "white",
            "showbackground": true,
            "ticks": "",
            "zerolinecolor": "white"
           },
           "zaxis": {
            "backgroundcolor": "#E5ECF6",
            "gridcolor": "white",
            "gridwidth": 2,
            "linecolor": "white",
            "showbackground": true,
            "ticks": "",
            "zerolinecolor": "white"
           }
          },
          "shapedefaults": {
           "line": {
            "color": "#2a3f5f"
           }
          },
          "ternary": {
           "aaxis": {
            "gridcolor": "white",
            "linecolor": "white",
            "ticks": ""
           },
           "baxis": {
            "gridcolor": "white",
            "linecolor": "white",
            "ticks": ""
           },
           "bgcolor": "#E5ECF6",
           "caxis": {
            "gridcolor": "white",
            "linecolor": "white",
            "ticks": ""
           }
          },
          "title": {
           "x": 0.05
          },
          "xaxis": {
           "automargin": true,
           "gridcolor": "white",
           "linecolor": "white",
           "ticks": "",
           "title": {
            "standoff": 15
           },
           "zerolinecolor": "white",
           "zerolinewidth": 2
          },
          "yaxis": {
           "automargin": true,
           "gridcolor": "white",
           "linecolor": "white",
           "ticks": "",
           "title": {
            "standoff": 15
           },
           "zerolinecolor": "white",
           "zerolinewidth": 2
          }
         }
        },
        "title": {
         "text": "Доля групп от общего числа покупателей в %"
        },
        "width": 600
       }
      }
     },
     "metadata": {},
     "output_type": "display_data"
    }
   ],
   "source": [
    "fig_2 = px.pie(values=group_from_all_user_purchase, \n",
    "              names=group_from_all_user_purchase.index,\n",
    "              title='Доля групп от общего числа покупателей в %',\n",
    "              height=400,\n",
    "              width=600\n",
    "              )\n",
    "fig_2.show()"
   ]
  },
  {
   "cell_type": "code",
   "execution_count": null,
   "metadata": {},
   "outputs": [
    {
     "data": {
      "text/plain": [
       "user_group\n",
       "finished        0.141\n",
       "not_finished    0.081\n",
       "not_start       0.003\n",
       "Name: user_id, dtype: float64"
      ]
     },
     "execution_count": 9,
     "metadata": {},
     "output_type": "execute_result"
    }
   ],
   "source": [
    "# % пользователей совершивших покупку от обшего количества в группе\n",
    "percent_of_users_made_a_purchase = pivot_df[~pivot_df['purchase'].isna()].groupby(\n",
    "    'user_group')['user_id'].nunique()/pivot_df.groupby('user_group')['user_id'].nunique()\n",
    "\n",
    "round(percent_of_users_made_a_purchase, 3)"
   ]
  },
  {
   "cell_type": "code",
   "execution_count": null,
   "metadata": {},
   "outputs": [
    {
     "data": {
      "text/html": [
       "<div>\n",
       "<style scoped>\n",
       "    .dataframe tbody tr th:only-of-type {\n",
       "        vertical-align: middle;\n",
       "    }\n",
       "\n",
       "    .dataframe tbody tr th {\n",
       "        vertical-align: top;\n",
       "    }\n",
       "\n",
       "    .dataframe thead th {\n",
       "        text-align: right;\n",
       "    }\n",
       "</style>\n",
       "<table border=\"1\" class=\"dataframe\">\n",
       "  <thead>\n",
       "    <tr style=\"text-align: right;\">\n",
       "      <th>event_type</th>\n",
       "      <th>level_choice</th>\n",
       "      <th>pack_choice</th>\n",
       "      <th>purchase</th>\n",
       "      <th>registration</th>\n",
       "      <th>tutorial_finish</th>\n",
       "      <th>tutorial_start</th>\n",
       "    </tr>\n",
       "    <tr>\n",
       "      <th>user_id</th>\n",
       "      <th></th>\n",
       "      <th></th>\n",
       "      <th></th>\n",
       "      <th></th>\n",
       "      <th></th>\n",
       "      <th></th>\n",
       "    </tr>\n",
       "  </thead>\n",
       "  <tbody>\n",
       "    <tr>\n",
       "      <th>27832</th>\n",
       "      <td>NaN</td>\n",
       "      <td>NaN</td>\n",
       "      <td>NaN</td>\n",
       "      <td>1.0</td>\n",
       "      <td>NaN</td>\n",
       "      <td>NaN</td>\n",
       "    </tr>\n",
       "    <tr>\n",
       "      <th>27833</th>\n",
       "      <td>NaN</td>\n",
       "      <td>NaN</td>\n",
       "      <td>NaN</td>\n",
       "      <td>1.0</td>\n",
       "      <td>1.0</td>\n",
       "      <td>1.0</td>\n",
       "    </tr>\n",
       "    <tr>\n",
       "      <th>27834</th>\n",
       "      <td>NaN</td>\n",
       "      <td>NaN</td>\n",
       "      <td>NaN</td>\n",
       "      <td>1.0</td>\n",
       "      <td>1.0</td>\n",
       "      <td>1.0</td>\n",
       "    </tr>\n",
       "    <tr>\n",
       "      <th>27835</th>\n",
       "      <td>1.0</td>\n",
       "      <td>1.0</td>\n",
       "      <td>NaN</td>\n",
       "      <td>1.0</td>\n",
       "      <td>1.0</td>\n",
       "      <td>1.0</td>\n",
       "    </tr>\n",
       "    <tr>\n",
       "      <th>27836</th>\n",
       "      <td>NaN</td>\n",
       "      <td>NaN</td>\n",
       "      <td>NaN</td>\n",
       "      <td>1.0</td>\n",
       "      <td>1.0</td>\n",
       "      <td>2.0</td>\n",
       "    </tr>\n",
       "  </tbody>\n",
       "</table>\n",
       "</div>"
      ],
      "text/plain": [
       "event_type  level_choice  pack_choice  purchase  registration  \\\n",
       "user_id                                                         \n",
       "27832                NaN          NaN       NaN           1.0   \n",
       "27833                NaN          NaN       NaN           1.0   \n",
       "27834                NaN          NaN       NaN           1.0   \n",
       "27835                1.0          1.0       NaN           1.0   \n",
       "27836                NaN          NaN       NaN           1.0   \n",
       "\n",
       "event_type  tutorial_finish  tutorial_start  \n",
       "user_id                                      \n",
       "27832                   NaN             NaN  \n",
       "27833                   1.0             1.0  \n",
       "27834                   1.0             1.0  \n",
       "27835                   1.0             1.0  \n",
       "27836                   1.0             2.0  "
      ]
     },
     "execution_count": 10,
     "metadata": {},
     "output_type": "execute_result"
    }
   ],
   "source": [
    "# Создаем сводную таблицу с кол. пройденого обучения (aggfunc='count')\n",
    "tutorial_count_df = total_events_df.pivot_table(values='start_time', index= 'user_id', columns= 'event_type', aggfunc='count')\n",
    "tutorial_count_df.head(5)"
   ]
  },
  {
   "cell_type": "code",
   "execution_count": null,
   "metadata": {},
   "outputs": [
    {
     "data": {
      "text/html": [
       "<div>\n",
       "<style scoped>\n",
       "    .dataframe tbody tr th:only-of-type {\n",
       "        vertical-align: middle;\n",
       "    }\n",
       "\n",
       "    .dataframe tbody tr th {\n",
       "        vertical-align: top;\n",
       "    }\n",
       "\n",
       "    .dataframe thead th {\n",
       "        text-align: right;\n",
       "    }\n",
       "</style>\n",
       "<table border=\"1\" class=\"dataframe\">\n",
       "  <thead>\n",
       "    <tr style=\"text-align: right;\">\n",
       "      <th>event_type</th>\n",
       "      <th>tutorial_finish</th>\n",
       "      <th>registration</th>\n",
       "      <th>purchase</th>\n",
       "    </tr>\n",
       "  </thead>\n",
       "  <tbody>\n",
       "    <tr>\n",
       "      <th>0</th>\n",
       "      <td>1.0</td>\n",
       "      <td>8015.0</td>\n",
       "      <td>1143.0</td>\n",
       "    </tr>\n",
       "    <tr>\n",
       "      <th>1</th>\n",
       "      <td>2.0</td>\n",
       "      <td>1321.0</td>\n",
       "      <td>182.0</td>\n",
       "    </tr>\n",
       "    <tr>\n",
       "      <th>2</th>\n",
       "      <td>3.0</td>\n",
       "      <td>345.0</td>\n",
       "      <td>44.0</td>\n",
       "    </tr>\n",
       "    <tr>\n",
       "      <th>3</th>\n",
       "      <td>4.0</td>\n",
       "      <td>178.0</td>\n",
       "      <td>19.0</td>\n",
       "    </tr>\n",
       "    <tr>\n",
       "      <th>4</th>\n",
       "      <td>5.0</td>\n",
       "      <td>117.0</td>\n",
       "      <td>19.0</td>\n",
       "    </tr>\n",
       "    <tr>\n",
       "      <th>5</th>\n",
       "      <td>6.0</td>\n",
       "      <td>101.0</td>\n",
       "      <td>15.0</td>\n",
       "    </tr>\n",
       "    <tr>\n",
       "      <th>6</th>\n",
       "      <td>7.0</td>\n",
       "      <td>97.0</td>\n",
       "      <td>15.0</td>\n",
       "    </tr>\n",
       "    <tr>\n",
       "      <th>7</th>\n",
       "      <td>8.0</td>\n",
       "      <td>54.0</td>\n",
       "      <td>6.0</td>\n",
       "    </tr>\n",
       "    <tr>\n",
       "      <th>8</th>\n",
       "      <td>9.0</td>\n",
       "      <td>22.0</td>\n",
       "      <td>4.0</td>\n",
       "    </tr>\n",
       "  </tbody>\n",
       "</table>\n",
       "</div>"
      ],
      "text/plain": [
       "event_type  tutorial_finish  registration  purchase\n",
       "0                       1.0        8015.0    1143.0\n",
       "1                       2.0        1321.0     182.0\n",
       "2                       3.0         345.0      44.0\n",
       "3                       4.0         178.0      19.0\n",
       "4                       5.0         117.0      19.0\n",
       "5                       6.0         101.0      15.0\n",
       "6                       7.0          97.0      15.0\n",
       "7                       8.0          54.0       6.0\n",
       "8                       9.0          22.0       4.0"
      ]
     },
     "execution_count": 11,
     "metadata": {},
     "output_type": "execute_result"
    }
   ],
   "source": [
    "# Групируем таблицу по закончившим обучение и сбросим индексы\n",
    "number_of_users_df = tutorial_count_df.groupby('tutorial_finish')[['registration', 'purchase']].sum()\n",
    "number_of_users_df = number_of_users_df.reset_index()\n",
    "number_of_users_df"
   ]
  },
  {
   "cell_type": "markdown",
   "metadata": {},
   "source": [
    "На данном этапе вводится метрика CR - Количеством совершенных целевых действие / Количество посетителей или пользователей.\n",
    "Под Количеством совершенных целевых действие - я поринимаю кол. пользователей совершивших покупку.\n",
    "Под Количество посетителей или пользователей - я принимаю кол. пользователей прошедших обучение один/несколько раз.\n",
    "Получается:\n",
    "CR - соотношение пользователей совершивших покупку от общего числа пользователей (прошедших обучение один/несколько раз)"
   ]
  },
  {
   "cell_type": "code",
   "execution_count": null,
   "metadata": {},
   "outputs": [
    {
     "data": {
      "text/html": [
       "<div>\n",
       "<style scoped>\n",
       "    .dataframe tbody tr th:only-of-type {\n",
       "        vertical-align: middle;\n",
       "    }\n",
       "\n",
       "    .dataframe tbody tr th {\n",
       "        vertical-align: top;\n",
       "    }\n",
       "\n",
       "    .dataframe thead th {\n",
       "        text-align: right;\n",
       "    }\n",
       "</style>\n",
       "<table border=\"1\" class=\"dataframe\">\n",
       "  <thead>\n",
       "    <tr style=\"text-align: right;\">\n",
       "      <th>event_type</th>\n",
       "      <th>tutorial_finish</th>\n",
       "      <th>registration</th>\n",
       "      <th>purchase</th>\n",
       "      <th>CR %</th>\n",
       "    </tr>\n",
       "  </thead>\n",
       "  <tbody>\n",
       "    <tr>\n",
       "      <th>0</th>\n",
       "      <td>1.0</td>\n",
       "      <td>8015.0</td>\n",
       "      <td>1143.0</td>\n",
       "      <td>14.26</td>\n",
       "    </tr>\n",
       "    <tr>\n",
       "      <th>1</th>\n",
       "      <td>2.0</td>\n",
       "      <td>1321.0</td>\n",
       "      <td>182.0</td>\n",
       "      <td>13.78</td>\n",
       "    </tr>\n",
       "    <tr>\n",
       "      <th>2</th>\n",
       "      <td>3.0</td>\n",
       "      <td>345.0</td>\n",
       "      <td>44.0</td>\n",
       "      <td>12.75</td>\n",
       "    </tr>\n",
       "    <tr>\n",
       "      <th>3</th>\n",
       "      <td>4.0</td>\n",
       "      <td>178.0</td>\n",
       "      <td>19.0</td>\n",
       "      <td>10.67</td>\n",
       "    </tr>\n",
       "    <tr>\n",
       "      <th>4</th>\n",
       "      <td>5.0</td>\n",
       "      <td>117.0</td>\n",
       "      <td>19.0</td>\n",
       "      <td>16.24</td>\n",
       "    </tr>\n",
       "  </tbody>\n",
       "</table>\n",
       "</div>"
      ],
      "text/plain": [
       "event_type  tutorial_finish  registration  purchase   CR %\n",
       "0                       1.0        8015.0    1143.0  14.26\n",
       "1                       2.0        1321.0     182.0  13.78\n",
       "2                       3.0         345.0      44.0  12.75\n",
       "3                       4.0         178.0      19.0  10.67\n",
       "4                       5.0         117.0      19.0  16.24"
      ]
     },
     "execution_count": 12,
     "metadata": {},
     "output_type": "execute_result"
    }
   ],
   "source": [
    "# Определяем новый признак CR в %\n",
    "number_of_users_df['CR %'] = round(number_of_users_df['purchase']/number_of_users_df['registration']*100, 2)\n",
    "number_of_users_df.head(5)\n"
   ]
  },
  {
   "cell_type": "markdown",
   "metadata": {},
   "source": [
    "**Можно было бы объеденить малочисленные группы в одну но я не стал этого делать т.к. на графике видно что среди всех групп нет сильного разброса в значение CR"
   ]
  },
  {
   "cell_type": "code",
   "execution_count": null,
   "metadata": {},
   "outputs": [
    {
     "data": {
      "application/vnd.plotly.v1+json": {
       "config": {
        "plotlyServerURL": "https://plot.ly"
       },
       "data": [
        {
         "hovertemplate": "tutorial_finish=%{x}<br>CR %=%{y}<extra></extra>",
         "legendgroup": "",
         "marker": {
          "color": "#636efa",
          "pattern": {
           "shape": ""
          }
         },
         "name": "",
         "orientation": "v",
         "showlegend": false,
         "textposition": "auto",
         "type": "bar",
         "x": {
          "bdata": "AAAAAAAA8D8AAAAAAAAAQAAAAAAAAAhAAAAAAAAAEEAAAAAAAAAUQAAAAAAAABhAAAAAAAAAHEAAAAAAAAAgQAAAAAAAACJA",
          "dtype": "f8"
         },
         "xaxis": "x",
         "y": {
          "bdata": "hetRuB6FLECPwvUoXI8rQAAAAAAAgClA16NwPQpXJUA9CtejcD0wQDMzMzMzsy1A7FG4HoXrLkC4HoXrUTgmQK5H4XoULjJA",
          "dtype": "f8"
         },
         "yaxis": "y"
        }
       ],
       "layout": {
        "barmode": "relative",
        "height": 400,
        "legend": {
         "tracegroupgap": 0
        },
        "template": {
         "data": {
          "bar": [
           {
            "error_x": {
             "color": "#2a3f5f"
            },
            "error_y": {
             "color": "#2a3f5f"
            },
            "marker": {
             "line": {
              "color": "#E5ECF6",
              "width": 0.5
             },
             "pattern": {
              "fillmode": "overlay",
              "size": 10,
              "solidity": 0.2
             }
            },
            "type": "bar"
           }
          ],
          "barpolar": [
           {
            "marker": {
             "line": {
              "color": "#E5ECF6",
              "width": 0.5
             },
             "pattern": {
              "fillmode": "overlay",
              "size": 10,
              "solidity": 0.2
             }
            },
            "type": "barpolar"
           }
          ],
          "carpet": [
           {
            "aaxis": {
             "endlinecolor": "#2a3f5f",
             "gridcolor": "white",
             "linecolor": "white",
             "minorgridcolor": "white",
             "startlinecolor": "#2a3f5f"
            },
            "baxis": {
             "endlinecolor": "#2a3f5f",
             "gridcolor": "white",
             "linecolor": "white",
             "minorgridcolor": "white",
             "startlinecolor": "#2a3f5f"
            },
            "type": "carpet"
           }
          ],
          "choropleth": [
           {
            "colorbar": {
             "outlinewidth": 0,
             "ticks": ""
            },
            "type": "choropleth"
           }
          ],
          "contour": [
           {
            "colorbar": {
             "outlinewidth": 0,
             "ticks": ""
            },
            "colorscale": [
             [
              0,
              "#0d0887"
             ],
             [
              0.1111111111111111,
              "#46039f"
             ],
             [
              0.2222222222222222,
              "#7201a8"
             ],
             [
              0.3333333333333333,
              "#9c179e"
             ],
             [
              0.4444444444444444,
              "#bd3786"
             ],
             [
              0.5555555555555556,
              "#d8576b"
             ],
             [
              0.6666666666666666,
              "#ed7953"
             ],
             [
              0.7777777777777778,
              "#fb9f3a"
             ],
             [
              0.8888888888888888,
              "#fdca26"
             ],
             [
              1,
              "#f0f921"
             ]
            ],
            "type": "contour"
           }
          ],
          "contourcarpet": [
           {
            "colorbar": {
             "outlinewidth": 0,
             "ticks": ""
            },
            "type": "contourcarpet"
           }
          ],
          "heatmap": [
           {
            "colorbar": {
             "outlinewidth": 0,
             "ticks": ""
            },
            "colorscale": [
             [
              0,
              "#0d0887"
             ],
             [
              0.1111111111111111,
              "#46039f"
             ],
             [
              0.2222222222222222,
              "#7201a8"
             ],
             [
              0.3333333333333333,
              "#9c179e"
             ],
             [
              0.4444444444444444,
              "#bd3786"
             ],
             [
              0.5555555555555556,
              "#d8576b"
             ],
             [
              0.6666666666666666,
              "#ed7953"
             ],
             [
              0.7777777777777778,
              "#fb9f3a"
             ],
             [
              0.8888888888888888,
              "#fdca26"
             ],
             [
              1,
              "#f0f921"
             ]
            ],
            "type": "heatmap"
           }
          ],
          "histogram": [
           {
            "marker": {
             "pattern": {
              "fillmode": "overlay",
              "size": 10,
              "solidity": 0.2
             }
            },
            "type": "histogram"
           }
          ],
          "histogram2d": [
           {
            "colorbar": {
             "outlinewidth": 0,
             "ticks": ""
            },
            "colorscale": [
             [
              0,
              "#0d0887"
             ],
             [
              0.1111111111111111,
              "#46039f"
             ],
             [
              0.2222222222222222,
              "#7201a8"
             ],
             [
              0.3333333333333333,
              "#9c179e"
             ],
             [
              0.4444444444444444,
              "#bd3786"
             ],
             [
              0.5555555555555556,
              "#d8576b"
             ],
             [
              0.6666666666666666,
              "#ed7953"
             ],
             [
              0.7777777777777778,
              "#fb9f3a"
             ],
             [
              0.8888888888888888,
              "#fdca26"
             ],
             [
              1,
              "#f0f921"
             ]
            ],
            "type": "histogram2d"
           }
          ],
          "histogram2dcontour": [
           {
            "colorbar": {
             "outlinewidth": 0,
             "ticks": ""
            },
            "colorscale": [
             [
              0,
              "#0d0887"
             ],
             [
              0.1111111111111111,
              "#46039f"
             ],
             [
              0.2222222222222222,
              "#7201a8"
             ],
             [
              0.3333333333333333,
              "#9c179e"
             ],
             [
              0.4444444444444444,
              "#bd3786"
             ],
             [
              0.5555555555555556,
              "#d8576b"
             ],
             [
              0.6666666666666666,
              "#ed7953"
             ],
             [
              0.7777777777777778,
              "#fb9f3a"
             ],
             [
              0.8888888888888888,
              "#fdca26"
             ],
             [
              1,
              "#f0f921"
             ]
            ],
            "type": "histogram2dcontour"
           }
          ],
          "mesh3d": [
           {
            "colorbar": {
             "outlinewidth": 0,
             "ticks": ""
            },
            "type": "mesh3d"
           }
          ],
          "parcoords": [
           {
            "line": {
             "colorbar": {
              "outlinewidth": 0,
              "ticks": ""
             }
            },
            "type": "parcoords"
           }
          ],
          "pie": [
           {
            "automargin": true,
            "type": "pie"
           }
          ],
          "scatter": [
           {
            "fillpattern": {
             "fillmode": "overlay",
             "size": 10,
             "solidity": 0.2
            },
            "type": "scatter"
           }
          ],
          "scatter3d": [
           {
            "line": {
             "colorbar": {
              "outlinewidth": 0,
              "ticks": ""
             }
            },
            "marker": {
             "colorbar": {
              "outlinewidth": 0,
              "ticks": ""
             }
            },
            "type": "scatter3d"
           }
          ],
          "scattercarpet": [
           {
            "marker": {
             "colorbar": {
              "outlinewidth": 0,
              "ticks": ""
             }
            },
            "type": "scattercarpet"
           }
          ],
          "scattergeo": [
           {
            "marker": {
             "colorbar": {
              "outlinewidth": 0,
              "ticks": ""
             }
            },
            "type": "scattergeo"
           }
          ],
          "scattergl": [
           {
            "marker": {
             "colorbar": {
              "outlinewidth": 0,
              "ticks": ""
             }
            },
            "type": "scattergl"
           }
          ],
          "scattermap": [
           {
            "marker": {
             "colorbar": {
              "outlinewidth": 0,
              "ticks": ""
             }
            },
            "type": "scattermap"
           }
          ],
          "scattermapbox": [
           {
            "marker": {
             "colorbar": {
              "outlinewidth": 0,
              "ticks": ""
             }
            },
            "type": "scattermapbox"
           }
          ],
          "scatterpolar": [
           {
            "marker": {
             "colorbar": {
              "outlinewidth": 0,
              "ticks": ""
             }
            },
            "type": "scatterpolar"
           }
          ],
          "scatterpolargl": [
           {
            "marker": {
             "colorbar": {
              "outlinewidth": 0,
              "ticks": ""
             }
            },
            "type": "scatterpolargl"
           }
          ],
          "scatterternary": [
           {
            "marker": {
             "colorbar": {
              "outlinewidth": 0,
              "ticks": ""
             }
            },
            "type": "scatterternary"
           }
          ],
          "surface": [
           {
            "colorbar": {
             "outlinewidth": 0,
             "ticks": ""
            },
            "colorscale": [
             [
              0,
              "#0d0887"
             ],
             [
              0.1111111111111111,
              "#46039f"
             ],
             [
              0.2222222222222222,
              "#7201a8"
             ],
             [
              0.3333333333333333,
              "#9c179e"
             ],
             [
              0.4444444444444444,
              "#bd3786"
             ],
             [
              0.5555555555555556,
              "#d8576b"
             ],
             [
              0.6666666666666666,
              "#ed7953"
             ],
             [
              0.7777777777777778,
              "#fb9f3a"
             ],
             [
              0.8888888888888888,
              "#fdca26"
             ],
             [
              1,
              "#f0f921"
             ]
            ],
            "type": "surface"
           }
          ],
          "table": [
           {
            "cells": {
             "fill": {
              "color": "#EBF0F8"
             },
             "line": {
              "color": "white"
             }
            },
            "header": {
             "fill": {
              "color": "#C8D4E3"
             },
             "line": {
              "color": "white"
             }
            },
            "type": "table"
           }
          ]
         },
         "layout": {
          "annotationdefaults": {
           "arrowcolor": "#2a3f5f",
           "arrowhead": 0,
           "arrowwidth": 1
          },
          "autotypenumbers": "strict",
          "coloraxis": {
           "colorbar": {
            "outlinewidth": 0,
            "ticks": ""
           }
          },
          "colorscale": {
           "diverging": [
            [
             0,
             "#8e0152"
            ],
            [
             0.1,
             "#c51b7d"
            ],
            [
             0.2,
             "#de77ae"
            ],
            [
             0.3,
             "#f1b6da"
            ],
            [
             0.4,
             "#fde0ef"
            ],
            [
             0.5,
             "#f7f7f7"
            ],
            [
             0.6,
             "#e6f5d0"
            ],
            [
             0.7,
             "#b8e186"
            ],
            [
             0.8,
             "#7fbc41"
            ],
            [
             0.9,
             "#4d9221"
            ],
            [
             1,
             "#276419"
            ]
           ],
           "sequential": [
            [
             0,
             "#0d0887"
            ],
            [
             0.1111111111111111,
             "#46039f"
            ],
            [
             0.2222222222222222,
             "#7201a8"
            ],
            [
             0.3333333333333333,
             "#9c179e"
            ],
            [
             0.4444444444444444,
             "#bd3786"
            ],
            [
             0.5555555555555556,
             "#d8576b"
            ],
            [
             0.6666666666666666,
             "#ed7953"
            ],
            [
             0.7777777777777778,
             "#fb9f3a"
            ],
            [
             0.8888888888888888,
             "#fdca26"
            ],
            [
             1,
             "#f0f921"
            ]
           ],
           "sequentialminus": [
            [
             0,
             "#0d0887"
            ],
            [
             0.1111111111111111,
             "#46039f"
            ],
            [
             0.2222222222222222,
             "#7201a8"
            ],
            [
             0.3333333333333333,
             "#9c179e"
            ],
            [
             0.4444444444444444,
             "#bd3786"
            ],
            [
             0.5555555555555556,
             "#d8576b"
            ],
            [
             0.6666666666666666,
             "#ed7953"
            ],
            [
             0.7777777777777778,
             "#fb9f3a"
            ],
            [
             0.8888888888888888,
             "#fdca26"
            ],
            [
             1,
             "#f0f921"
            ]
           ]
          },
          "colorway": [
           "#636efa",
           "#EF553B",
           "#00cc96",
           "#ab63fa",
           "#FFA15A",
           "#19d3f3",
           "#FF6692",
           "#B6E880",
           "#FF97FF",
           "#FECB52"
          ],
          "font": {
           "color": "#2a3f5f"
          },
          "geo": {
           "bgcolor": "white",
           "lakecolor": "white",
           "landcolor": "#E5ECF6",
           "showlakes": true,
           "showland": true,
           "subunitcolor": "white"
          },
          "hoverlabel": {
           "align": "left"
          },
          "hovermode": "closest",
          "mapbox": {
           "style": "light"
          },
          "paper_bgcolor": "white",
          "plot_bgcolor": "#E5ECF6",
          "polar": {
           "angularaxis": {
            "gridcolor": "white",
            "linecolor": "white",
            "ticks": ""
           },
           "bgcolor": "#E5ECF6",
           "radialaxis": {
            "gridcolor": "white",
            "linecolor": "white",
            "ticks": ""
           }
          },
          "scene": {
           "xaxis": {
            "backgroundcolor": "#E5ECF6",
            "gridcolor": "white",
            "gridwidth": 2,
            "linecolor": "white",
            "showbackground": true,
            "ticks": "",
            "zerolinecolor": "white"
           },
           "yaxis": {
            "backgroundcolor": "#E5ECF6",
            "gridcolor": "white",
            "gridwidth": 2,
            "linecolor": "white",
            "showbackground": true,
            "ticks": "",
            "zerolinecolor": "white"
           },
           "zaxis": {
            "backgroundcolor": "#E5ECF6",
            "gridcolor": "white",
            "gridwidth": 2,
            "linecolor": "white",
            "showbackground": true,
            "ticks": "",
            "zerolinecolor": "white"
           }
          },
          "shapedefaults": {
           "line": {
            "color": "#2a3f5f"
           }
          },
          "ternary": {
           "aaxis": {
            "gridcolor": "white",
            "linecolor": "white",
            "ticks": ""
           },
           "baxis": {
            "gridcolor": "white",
            "linecolor": "white",
            "ticks": ""
           },
           "bgcolor": "#E5ECF6",
           "caxis": {
            "gridcolor": "white",
            "linecolor": "white",
            "ticks": ""
           }
          },
          "title": {
           "x": 0.05
          },
          "xaxis": {
           "automargin": true,
           "gridcolor": "white",
           "linecolor": "white",
           "ticks": "",
           "title": {
            "standoff": 15
           },
           "zerolinecolor": "white",
           "zerolinewidth": 2
          },
          "yaxis": {
           "automargin": true,
           "gridcolor": "white",
           "linecolor": "white",
           "ticks": "",
           "title": {
            "standoff": 15
           },
           "zerolinecolor": "white",
           "zerolinewidth": 2
          }
         }
        },
        "title": {
         "text": "CR по группам пользователей"
        },
        "width": 1000,
        "xaxis": {
         "anchor": "y",
         "domain": [
          0,
          1
         ],
         "title": {
          "text": "tutorial_finish"
         }
        },
        "yaxis": {
         "anchor": "x",
         "domain": [
          0,
          1
         ],
         "title": {
          "text": "CR %"
         }
        }
       }
      }
     },
     "metadata": {},
     "output_type": "display_data"
    }
   ],
   "source": [
    "# График \n",
    "fig_3 = px.bar(number_of_users_df,\n",
    "              x= 'tutorial_finish',\n",
    "              y= 'CR %',\n",
    "              height=400,\n",
    "              width=1000,\n",
    "              labels={\"value\": \"CR %\", \"index\": \"кол. пройденых обучений\", \"variable\": \"users совершие покупку\"},\n",
    "              title= 'CR по группам пользователей')\n",
    "\n",
    "fig_3.show()"
   ]
  },
  {
   "cell_type": "markdown",
   "metadata": {},
   "source": [
    "## <center> ВЫВОД\n",
    "\n",
    "Процент пользователей совершивших покупку среди прошедших обучение один раз и пользователей прошедших обучение более одного раз существенных различий в CR не имеет, значит количество пройденых обучений никак не влияет на вероятность оплаты. Можно было бы выделить группу с 9 пройдеными обучениями, но она очень малочисленная (4 пользователя) чтобы по ней делать какие то выводы."
   ]
  },
  {
   "cell_type": "markdown",
   "metadata": {},
   "source": [
    "## <center> Гипотеза 3"
   ]
  },
  {
   "cell_type": "markdown",
   "metadata": {},
   "source": [
    "<center> Определить, насколько прозрачен процесс взаимодействия с игрой."
   ]
  },
  {
   "cell_type": "code",
   "execution_count": null,
   "metadata": {},
   "outputs": [
    {
     "data": {
      "text/html": [
       "<div>\n",
       "<style scoped>\n",
       "    .dataframe tbody tr th:only-of-type {\n",
       "        vertical-align: middle;\n",
       "    }\n",
       "\n",
       "    .dataframe tbody tr th {\n",
       "        vertical-align: top;\n",
       "    }\n",
       "\n",
       "    .dataframe thead th {\n",
       "        text-align: right;\n",
       "    }\n",
       "</style>\n",
       "<table border=\"1\" class=\"dataframe\">\n",
       "  <thead>\n",
       "    <tr style=\"text-align: right;\">\n",
       "      <th>event_type</th>\n",
       "      <th>user_id</th>\n",
       "      <th>tutorial_start</th>\n",
       "      <th>level_choice</th>\n",
       "    </tr>\n",
       "  </thead>\n",
       "  <tbody>\n",
       "    <tr>\n",
       "      <th>0</th>\n",
       "      <td>27832</td>\n",
       "      <td>NaT</td>\n",
       "      <td>NaT</td>\n",
       "    </tr>\n",
       "    <tr>\n",
       "      <th>1</th>\n",
       "      <td>27833</td>\n",
       "      <td>2018-01-01 17:47:40</td>\n",
       "      <td>NaT</td>\n",
       "    </tr>\n",
       "    <tr>\n",
       "      <th>2</th>\n",
       "      <td>27834</td>\n",
       "      <td>2018-01-01 19:46:11</td>\n",
       "      <td>NaT</td>\n",
       "    </tr>\n",
       "    <tr>\n",
       "      <th>3</th>\n",
       "      <td>27835</td>\n",
       "      <td>2018-01-01 15:00:51</td>\n",
       "      <td>2018-01-01 20:37:22</td>\n",
       "    </tr>\n",
       "    <tr>\n",
       "      <th>4</th>\n",
       "      <td>27836</td>\n",
       "      <td>2018-01-01 15:40:43</td>\n",
       "      <td>NaT</td>\n",
       "    </tr>\n",
       "  </tbody>\n",
       "</table>\n",
       "</div>"
      ],
      "text/plain": [
       "event_type  user_id      tutorial_start        level_choice\n",
       "0             27832                 NaT                 NaT\n",
       "1             27833 2018-01-01 17:47:40                 NaT\n",
       "2             27834 2018-01-01 19:46:11                 NaT\n",
       "3             27835 2018-01-01 15:00:51 2018-01-01 20:37:22\n",
       "4             27836 2018-01-01 15:40:43                 NaT"
      ]
     },
     "execution_count": 14,
     "metadata": {},
     "output_type": "execute_result"
    }
   ],
   "source": [
    "# Сводная таблица значение-время, столбцы-тип события, индекс-пользователи\n",
    "\n",
    "\"\"\"\n",
    "Берется максимальное время, чтобы получить максимально позднее обучение из всех начатых пользователем\n",
    "(что бы увидеть пользователей начивших обучение после выбора сложности или \n",
    "вернувшихсы к обучению повторно после выбора сложности )\n",
    "поскольку оно может покажет время обучения, произошедшее позже выбора уровня сложности\n",
    "\"\"\"\n",
    "\n",
    "events_pivot = events_df.pivot_table(\n",
    "    values='start_time',index='user_id',columns='event_type',aggfunc='max') \n",
    "\n",
    "# Убираем лишнии столбцы и сбрасываем индекс\n",
    "events_pivot = events_pivot[['tutorial_start','level_choice']].reset_index()\n",
    "\n",
    "events_pivot.head(5)"
   ]
  },
  {
   "cell_type": "code",
   "execution_count": null,
   "metadata": {},
   "outputs": [
    {
     "data": {
      "text/html": [
       "<div>\n",
       "<style scoped>\n",
       "    .dataframe tbody tr th:only-of-type {\n",
       "        vertical-align: middle;\n",
       "    }\n",
       "\n",
       "    .dataframe tbody tr th {\n",
       "        vertical-align: top;\n",
       "    }\n",
       "\n",
       "    .dataframe thead th {\n",
       "        text-align: right;\n",
       "    }\n",
       "</style>\n",
       "<table border=\"1\" class=\"dataframe\">\n",
       "  <thead>\n",
       "    <tr style=\"text-align: right;\">\n",
       "      <th>event_type</th>\n",
       "      <th>user_id</th>\n",
       "      <th>tutorial_start</th>\n",
       "      <th>level_choice</th>\n",
       "      <th>return_to_tutorial</th>\n",
       "    </tr>\n",
       "  </thead>\n",
       "  <tbody>\n",
       "    <tr>\n",
       "      <th>3</th>\n",
       "      <td>27835</td>\n",
       "      <td>2018-01-01 15:00:51</td>\n",
       "      <td>2018-01-01 20:37:22</td>\n",
       "      <td>5.608611</td>\n",
       "    </tr>\n",
       "    <tr>\n",
       "      <th>7</th>\n",
       "      <td>27839</td>\n",
       "      <td>2018-01-01 19:11:36</td>\n",
       "      <td>2018-01-01 22:37:50</td>\n",
       "      <td>3.437222</td>\n",
       "    </tr>\n",
       "    <tr>\n",
       "      <th>8</th>\n",
       "      <td>27840</td>\n",
       "      <td>2018-01-02 02:07:07</td>\n",
       "      <td>2018-01-02 05:18:42</td>\n",
       "      <td>3.193056</td>\n",
       "    </tr>\n",
       "    <tr>\n",
       "      <th>10</th>\n",
       "      <td>27842</td>\n",
       "      <td>2018-01-02 18:08:01</td>\n",
       "      <td>2018-01-02 08:46:03</td>\n",
       "      <td>-9.366111</td>\n",
       "    </tr>\n",
       "    <tr>\n",
       "      <th>11</th>\n",
       "      <td>27843</td>\n",
       "      <td>2018-01-02 13:34:51</td>\n",
       "      <td>2018-01-02 14:09:58</td>\n",
       "      <td>0.585278</td>\n",
       "    </tr>\n",
       "  </tbody>\n",
       "</table>\n",
       "</div>"
      ],
      "text/plain": [
       "event_type  user_id      tutorial_start        level_choice  \\\n",
       "3             27835 2018-01-01 15:00:51 2018-01-01 20:37:22   \n",
       "7             27839 2018-01-01 19:11:36 2018-01-01 22:37:50   \n",
       "8             27840 2018-01-02 02:07:07 2018-01-02 05:18:42   \n",
       "10            27842 2018-01-02 18:08:01 2018-01-02 08:46:03   \n",
       "11            27843 2018-01-02 13:34:51 2018-01-02 14:09:58   \n",
       "\n",
       "event_type  return_to_tutorial  \n",
       "3                     5.608611  \n",
       "7                     3.437222  \n",
       "8                     3.193056  \n",
       "10                   -9.366111  \n",
       "11                    0.585278  "
      ]
     },
     "execution_count": 15,
     "metadata": {},
     "output_type": "execute_result"
    }
   ],
   "source": [
    "# Признак отражающий разницу времени между выбором уровня сложности и обучением\n",
    "events_pivot['return_to_tutorial'] = events_pivot['level_choice'] - events_pivot['tutorial_start'] \n",
    "\n",
    "# Удаляю строки не содержащие значений\n",
    "events_pivot = events_pivot.dropna(axis=0,subset='level_choice')\n",
    "\n",
    "# избавляюсь от формата Timedelta\n",
    "events_pivot['return_to_tutorial'] = events_pivot['return_to_tutorial']/ pd.Timedelta('1 hour')  \n",
    "\n",
    "events_pivot.head(5)"
   ]
  },
  {
   "cell_type": "code",
   "execution_count": null,
   "metadata": {},
   "outputs": [
    {
     "name": "stdout",
     "output_type": "stream",
     "text": [
      "Процент вернувшиеся на этап обучения после выбора сложности составляет: 16.61%\n"
     ]
    }
   ],
   "source": [
    "# маска для фильтрации отрицальных значений\n",
    "mask_4 = events_pivot['return_to_tutorial'] < 0 \n",
    "\n",
    "# Количество пользователей, перешедших на этап выбора уровня сложности level_choice\n",
    "level_choice_count = events_pivot['user_id'].nunique() \n",
    "\n",
    "# Кол. вернувшихся на этап обучения\n",
    "return_tutorial_count = events_pivot[mask_4]['user_id'].nunique() \n",
    "\n",
    "# Процент вернувшихся от достигших этапа выбора сложности\n",
    "percent_returned_users = return_tutorial_count/level_choice_count\n",
    "\n",
    "print('Процент вернувшиеся на этап обучения после выбора сложности '\n",
    "      'составляет: {:.2%}'.format(percent_returned_users))"
   ]
  },
  {
   "cell_type": "markdown",
   "metadata": {},
   "source": [
    "## <center> ВЫВОД\n",
    "\n",
    "Количество пользователей, дошедших до уровня выбора уровня сложности составляет: 8342 человека.  \n",
    "Количество пользователей, начавших обучения после выбора уровня сложности составляет: 1386 человека.  \n",
    "Только 17% пользователей начали обучение после выбора уровня сложности, что говорит об интуитивно понятном интерфейсе и правилах игры. Но 17% (1386 пользователей) это довольно много и к этой группе стоет присмотреться по внимательнее."
   ]
  },
  {
   "cell_type": "markdown",
   "metadata": {},
   "source": [
    "## <center> **ВЫВОД ПО ПРОЕКТУ**"
   ]
  },
  {
   "cell_type": "markdown",
   "metadata": {},
   "source": [
    "Гипотеза 1 пользователи прошедшие обучение проходят этапы игры бастрее всех, помедленее это делают пользователи не закончившие обучение и медленее всех проходят этапы пользователи не проходившие обучение. Можно сделать вывод что обучение (даже не оконченое) сказывается на скорости прохождение этапов игры.  \n",
    "Пользователи прошедшии обучение имеют наибольшую вероятность покупки 14% и их доля от всех покупателей подавляющая 90.4%  пользователи не закончившие обучение имеют вероятность покупки 8% их доля от всех покупателей 8.2% и не проходившие обучение имеют вероятность покупки менее 1% их доля от всех покупателей 1.4%  \n",
    "При разборе гипотезы 2 выявлено что количество пройденых обучений не влияют на вероятность покупки т.к. у расматриваймых групп пользователи прошедшие обучение один раз и пользователи прошедшии обучение более одного раза существенных расхождений в вероятности покупки не выявлено.  \n",
    "Гипотеза 3 выявила группу из 17% пользователей вернувшихся на этап обучения, эта группа нуждается в более подробном расмотрении и анализе: посмотреть их путь по всем этапам, узнать не отбращались он в службу поддержки (если она вообще у нас есть) и если да то с каким вопросом это поможет установить моменты в игре которые требуют доработки. Это большая по численности группа и выводы сделаные прие её подробном расмотрении могут улучшить продукт.\n",
    "\n",
    "Из всего можно выделить что обучение очень позитивно сказывается на вовлеченности в игру (об этом говорит скорости прохождения этапов) и покупках совершенными пользователями прошедшими обучение 90.4% от всех покупок. Само обучение занимает не много времени в среднем 0.2 ч.. Необходими продвигать обучение размещая кнопку на более видном месте или предлага игровые поощрения за прохождение обучения."
   ]
  }
 ],
 "metadata": {
  "kernelspec": {
   "display_name": ".analytics (3.9.12)",
   "language": "python",
   "name": "python3"
  },
  "language_info": {
   "codemirror_mode": {
    "name": "ipython",
    "version": 3
   },
   "file_extension": ".py",
   "mimetype": "text/x-python",
   "name": "python",
   "nbconvert_exporter": "python",
   "pygments_lexer": "ipython3",
   "version": "3.9.12"
  }
 },
 "nbformat": 4,
 "nbformat_minor": 2
}
